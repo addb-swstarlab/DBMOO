{
 "cells": [
  {
   "cell_type": "code",
   "execution_count": 5,
   "id": "ee28dae1",
   "metadata": {},
   "outputs": [],
   "source": [
    "import os, sys\n",
    "import pandas as pd\n",
    "import numpy as np\n",
    "\n",
    "sys.path.append('../')\n",
    "from knobs import Knob\n",
    "from utils import rocksdb_knobs_make_dict\n",
    "from steps import train_fitness_function\n",
    "from torch.utils.data import DataLoader\n",
    "from network import RocksDBDataset, SingleNet\n",
    "from train import train, valid"
   ]
  },
  {
   "cell_type": "code",
   "execution_count": 7,
   "id": "39237e41",
   "metadata": {},
   "outputs": [],
   "source": [
    "class OPT():\n",
    "    def __init__(self):\n",
    "        self.target = 0\n",
    "        self.batch_size = 32\n",
    "        self.epochs = 20\n",
    "        self.lr = 0.0001\n",
    "        \n",
    "opt = OPT()"
   ]
  },
  {
   "cell_type": "code",
   "execution_count": 11,
   "id": "8a4d91d5",
   "metadata": {},
   "outputs": [],
   "source": [
    "KNOB_PATH = f'../data/mysql/configs/{opt.target}'\n",
    "EXTERNAL_PATH = '../data/mysql/external'\n",
    "INTERNAL_PATH = '../data/mysql/internal'\n",
    "WK_NUM = 1"
   ]
  },
  {
   "cell_type": "code",
   "execution_count": 151,
   "id": "01a07d5e",
   "metadata": {},
   "outputs": [],
   "source": [
    "def mysql_knob_dataframe(knobs_path):\n",
    "    config_len = len(os.listdir(knobs_path))\n",
    "    cnf_parser = configparser.ConfigParser()\n",
    "    pd_mysql = pd.DataFrame()\n",
    "    for idx in range(config_len):\n",
    "        cnf_parser.read(os.path.join(knobs_path, f'my_{idx}.cnf'))\n",
    "        conf_dict = cnf_parser._sections['mysqld']\n",
    "        tmp = pd.DataFrame(data=[conf_dict.values()], columns=conf_dict.keys())\n",
    "        pd_mysql = pd.concat([pd_mysql, tmp])\n",
    "        \n",
    "    pd_mysql = pd_mysql.reset_index(drop=True)\n",
    "    pd_mysql = pd_mysql.drop(columns=['log-error', 'bind-address'])\n",
    "    return pd_mysql\n",
    "\n",
    "def mysql_metrics_dataframe(wk, internal_path, external_path):\n",
    "    internal = pd.read_csv(os.path.join(internal_path, f'internal_results_{wk}.csv'), index_col=0)\n",
    "    ## Drop oolumns contained unique data\n",
    "    unique_data_column = []\n",
    "    for col in internal.columns:\n",
    "        if len(pd.value_counts(internal[col])) == 1:\n",
    "            unique_data_column.append(col)\n",
    "    internal = internal.drop(columns=unique_data_column)\n",
    "    \n",
    "    external = pd.read_csv(os.path.join(external_path, f'external_results_{wk}.csv'), index_col=0)\n",
    "    latency_columns = []\n",
    "    for col in external.columns:\n",
    "        if col.find(\"latency\") == 0 and col != 'latency_max' and col != 'latency_CLEANUP':\n",
    "            latency_columns.append(col)\n",
    "    external_ = external[['tps']].copy()\n",
    "    external_['latency'] = external[latency_columns].max(axis=1)\n",
    "    return internal, external_"
   ]
  },
  {
   "cell_type": "code",
   "execution_count": 60,
   "id": "3f4ae534",
   "metadata": {},
   "outputs": [],
   "source": [
    "raw_knobs = mysql_dataframe(KNOB_PATH)"
   ]
  },
  {
   "cell_type": "code",
   "execution_count": 152,
   "id": "42b9e295",
   "metadata": {},
   "outputs": [],
   "source": [
    "wk = 0\n",
    "internal, external = mysql_metrics_dataframe(wk, INTERNAL_PATH, EXTERNAL_PATH)"
   ]
  },
  {
   "cell_type": "code",
   "execution_count": 154,
   "id": "2e05909f",
   "metadata": {},
   "outputs": [
    {
     "data": {
      "text/html": [
       "<div>\n",
       "<style scoped>\n",
       "    .dataframe tbody tr th:only-of-type {\n",
       "        vertical-align: middle;\n",
       "    }\n",
       "\n",
       "    .dataframe tbody tr th {\n",
       "        vertical-align: top;\n",
       "    }\n",
       "\n",
       "    .dataframe thead th {\n",
       "        text-align: right;\n",
       "    }\n",
       "</style>\n",
       "<table border=\"1\" class=\"dataframe\">\n",
       "  <thead>\n",
       "    <tr style=\"text-align: right;\">\n",
       "      <th></th>\n",
       "      <th>tps</th>\n",
       "      <th>latency</th>\n",
       "    </tr>\n",
       "  </thead>\n",
       "  <tbody>\n",
       "    <tr>\n",
       "      <th>0</th>\n",
       "      <td>87624.7</td>\n",
       "      <td>305.0</td>\n",
       "    </tr>\n",
       "    <tr>\n",
       "      <th>1</th>\n",
       "      <td>86652.8</td>\n",
       "      <td>339.0</td>\n",
       "    </tr>\n",
       "    <tr>\n",
       "      <th>2</th>\n",
       "      <td>86010.4</td>\n",
       "      <td>431.0</td>\n",
       "    </tr>\n",
       "    <tr>\n",
       "      <th>3</th>\n",
       "      <td>79557.0</td>\n",
       "      <td>362.0</td>\n",
       "    </tr>\n",
       "    <tr>\n",
       "      <th>4</th>\n",
       "      <td>83238.3</td>\n",
       "      <td>398.0</td>\n",
       "    </tr>\n",
       "    <tr>\n",
       "      <th>...</th>\n",
       "      <td>...</td>\n",
       "      <td>...</td>\n",
       "    </tr>\n",
       "    <tr>\n",
       "      <th>995</th>\n",
       "      <td>84583.0</td>\n",
       "      <td>328.0</td>\n",
       "    </tr>\n",
       "    <tr>\n",
       "      <th>996</th>\n",
       "      <td>92383.8</td>\n",
       "      <td>309.0</td>\n",
       "    </tr>\n",
       "    <tr>\n",
       "      <th>997</th>\n",
       "      <td>88124.3</td>\n",
       "      <td>379.0</td>\n",
       "    </tr>\n",
       "    <tr>\n",
       "      <th>998</th>\n",
       "      <td>79968.6</td>\n",
       "      <td>363.0</td>\n",
       "    </tr>\n",
       "    <tr>\n",
       "      <th>999</th>\n",
       "      <td>81131.2</td>\n",
       "      <td>297.0</td>\n",
       "    </tr>\n",
       "  </tbody>\n",
       "</table>\n",
       "<p>1000 rows × 2 columns</p>\n",
       "</div>"
      ],
      "text/plain": [
       "         tps  latency\n",
       "0    87624.7    305.0\n",
       "1    86652.8    339.0\n",
       "2    86010.4    431.0\n",
       "3    79557.0    362.0\n",
       "4    83238.3    398.0\n",
       "..       ...      ...\n",
       "995  84583.0    328.0\n",
       "996  92383.8    309.0\n",
       "997  88124.3    379.0\n",
       "998  79968.6    363.0\n",
       "999  81131.2    297.0\n",
       "\n",
       "[1000 rows x 2 columns]"
      ]
     },
     "execution_count": 154,
     "metadata": {},
     "output_type": "execute_result"
    }
   ],
   "source": [
    "external"
   ]
  },
  {
   "cell_type": "code",
   "execution_count": 62,
   "id": "bdfb88c8",
   "metadata": {},
   "outputs": [],
   "source": [
    "wk = 0\n",
    "internal = pd.read_csv(os.path.join(INTERNAL_PATH, f'internal_results_{wk}.csv'), index_col=0)\n",
    "\n",
    "unique_data_column = []\n",
    "for col in internal.columns:\n",
    "    if len(pd.value_counts(internal[col])) == 1:\n",
    "        unique_data_column.append(col)\n",
    "internal = internal.drop(columns=unique_data_column)"
   ]
  },
  {
   "cell_type": "code",
   "execution_count": 146,
   "id": "74e5d584",
   "metadata": {},
   "outputs": [],
   "source": [
    "external = pd.read_csv(os.path.join(EXTERNAL_PATH, f'external_results_{wk}.csv'), index_col=0)"
   ]
  },
  {
   "cell_type": "code",
   "execution_count": 147,
   "id": "521e2163",
   "metadata": {},
   "outputs": [],
   "source": [
    "latency_columns = []\n",
    "for col in external.columns:\n",
    "    if col.find(\"latency\") == 0 and col != 'latency_max' and col != 'latency_CLEANUP':\n",
    "        latency_columns.append(col)"
   ]
  },
  {
   "cell_type": "code",
   "execution_count": 148,
   "id": "1f05cd8c",
   "metadata": {},
   "outputs": [],
   "source": [
    "external_ = external[['tps']].copy()"
   ]
  },
  {
   "cell_type": "code",
   "execution_count": 149,
   "id": "ed25341b",
   "metadata": {
    "scrolled": false
   },
   "outputs": [],
   "source": [
    "external_['latency'] = external[latency_columns].max(axis=1)"
   ]
  },
  {
   "cell_type": "code",
   "execution_count": 150,
   "id": "21658f74",
   "metadata": {},
   "outputs": [
    {
     "data": {
      "text/html": [
       "<div>\n",
       "<style scoped>\n",
       "    .dataframe tbody tr th:only-of-type {\n",
       "        vertical-align: middle;\n",
       "    }\n",
       "\n",
       "    .dataframe tbody tr th {\n",
       "        vertical-align: top;\n",
       "    }\n",
       "\n",
       "    .dataframe thead th {\n",
       "        text-align: right;\n",
       "    }\n",
       "</style>\n",
       "<table border=\"1\" class=\"dataframe\">\n",
       "  <thead>\n",
       "    <tr style=\"text-align: right;\">\n",
       "      <th></th>\n",
       "      <th>tps</th>\n",
       "      <th>latency</th>\n",
       "    </tr>\n",
       "  </thead>\n",
       "  <tbody>\n",
       "    <tr>\n",
       "      <th>0</th>\n",
       "      <td>87624.7</td>\n",
       "      <td>305.0</td>\n",
       "    </tr>\n",
       "    <tr>\n",
       "      <th>1</th>\n",
       "      <td>86652.8</td>\n",
       "      <td>339.0</td>\n",
       "    </tr>\n",
       "    <tr>\n",
       "      <th>2</th>\n",
       "      <td>86010.4</td>\n",
       "      <td>431.0</td>\n",
       "    </tr>\n",
       "    <tr>\n",
       "      <th>3</th>\n",
       "      <td>79557.0</td>\n",
       "      <td>362.0</td>\n",
       "    </tr>\n",
       "    <tr>\n",
       "      <th>4</th>\n",
       "      <td>83238.3</td>\n",
       "      <td>398.0</td>\n",
       "    </tr>\n",
       "    <tr>\n",
       "      <th>...</th>\n",
       "      <td>...</td>\n",
       "      <td>...</td>\n",
       "    </tr>\n",
       "    <tr>\n",
       "      <th>995</th>\n",
       "      <td>84583.0</td>\n",
       "      <td>328.0</td>\n",
       "    </tr>\n",
       "    <tr>\n",
       "      <th>996</th>\n",
       "      <td>92383.8</td>\n",
       "      <td>309.0</td>\n",
       "    </tr>\n",
       "    <tr>\n",
       "      <th>997</th>\n",
       "      <td>88124.3</td>\n",
       "      <td>379.0</td>\n",
       "    </tr>\n",
       "    <tr>\n",
       "      <th>998</th>\n",
       "      <td>79968.6</td>\n",
       "      <td>363.0</td>\n",
       "    </tr>\n",
       "    <tr>\n",
       "      <th>999</th>\n",
       "      <td>81131.2</td>\n",
       "      <td>297.0</td>\n",
       "    </tr>\n",
       "  </tbody>\n",
       "</table>\n",
       "<p>1000 rows × 2 columns</p>\n",
       "</div>"
      ],
      "text/plain": [
       "         tps  latency\n",
       "0    87624.7    305.0\n",
       "1    86652.8    339.0\n",
       "2    86010.4    431.0\n",
       "3    79557.0    362.0\n",
       "4    83238.3    398.0\n",
       "..       ...      ...\n",
       "995  84583.0    328.0\n",
       "996  92383.8    309.0\n",
       "997  88124.3    379.0\n",
       "998  79968.6    363.0\n",
       "999  81131.2    297.0\n",
       "\n",
       "[1000 rows x 2 columns]"
      ]
     },
     "execution_count": 150,
     "metadata": {},
     "output_type": "execute_result"
    }
   ],
   "source": [
    "external_"
   ]
  },
  {
   "cell_type": "code",
   "execution_count": 102,
   "id": "e42678c4",
   "metadata": {},
   "outputs": [
    {
     "data": {
      "text/plain": [
       "['latency_READ', 'latency_UPDATE']"
      ]
     },
     "execution_count": 102,
     "metadata": {},
     "output_type": "execute_result"
    }
   ],
   "source": [
    "latency_columns"
   ]
  },
  {
   "cell_type": "code",
   "execution_count": 88,
   "id": "e74fe5d0",
   "metadata": {},
   "outputs": [
    {
     "ename": "AttributeError",
     "evalue": "'list' object has no attribute 'find'",
     "output_type": "error",
     "traceback": [
      "\u001b[0;31m---------------------------------------------------------------------------\u001b[0m",
      "\u001b[0;31mAttributeError\u001b[0m                            Traceback (most recent call last)",
      "\u001b[0;32m/tmp/ipykernel_12645/2313802989.py\u001b[0m in \u001b[0;36m<module>\u001b[0;34m\u001b[0m\n\u001b[0;32m----> 1\u001b[0;31m \u001b[0mexternal\u001b[0m\u001b[0;34m.\u001b[0m\u001b[0mcolumns\u001b[0m\u001b[0;34m.\u001b[0m\u001b[0mto_list\u001b[0m\u001b[0;34m(\u001b[0m\u001b[0;34m)\u001b[0m\u001b[0;34m.\u001b[0m\u001b[0mfind\u001b[0m\u001b[0;34m(\u001b[0m\u001b[0;34m'latency'\u001b[0m\u001b[0;34m)\u001b[0m\u001b[0;34m\u001b[0m\u001b[0;34m\u001b[0m\u001b[0m\n\u001b[0m",
      "\u001b[0;31mAttributeError\u001b[0m: 'list' object has no attribute 'find'"
     ]
    }
   ],
   "source": [
    "external.columns.to_list().find('latency')"
   ]
  },
  {
   "cell_type": "code",
   "execution_count": 84,
   "id": "0305adab",
   "metadata": {},
   "outputs": [
    {
     "ename": "AttributeError",
     "evalue": "'Index' object has no attribute 'find'",
     "output_type": "error",
     "traceback": [
      "\u001b[0;31m---------------------------------------------------------------------------\u001b[0m",
      "\u001b[0;31mAttributeError\u001b[0m                            Traceback (most recent call last)",
      "\u001b[0;32m/tmp/ipykernel_12645/993457925.py\u001b[0m in \u001b[0;36m<module>\u001b[0;34m\u001b[0m\n\u001b[0;32m----> 1\u001b[0;31m \u001b[0mexternal\u001b[0m\u001b[0;34m.\u001b[0m\u001b[0mcolumns\u001b[0m\u001b[0;34m.\u001b[0m\u001b[0mfind\u001b[0m\u001b[0;34m(\u001b[0m\u001b[0;34m'latency'\u001b[0m\u001b[0;34m)\u001b[0m\u001b[0;34m\u001b[0m\u001b[0;34m\u001b[0m\u001b[0m\n\u001b[0m",
      "\u001b[0;31mAttributeError\u001b[0m: 'Index' object has no attribute 'find'"
     ]
    }
   ],
   "source": [
    "external.columns.find('latency')"
   ]
  },
  {
   "cell_type": "code",
   "execution_count": null,
   "id": "4e207839",
   "metadata": {},
   "outputs": [],
   "source": []
  },
  {
   "cell_type": "code",
   "execution_count": 74,
   "id": "aae84c18",
   "metadata": {
    "scrolled": true
   },
   "outputs": [
    {
     "data": {
      "text/plain": [
       "0    1000\n",
       "Name: ibuf_merges_insert, dtype: int64"
      ]
     },
     "execution_count": 74,
     "metadata": {},
     "output_type": "execute_result"
    }
   ],
   "source": [
    "pd.value_counts(internal['ibuf_merges_insert'])"
   ]
  },
  {
   "cell_type": "code",
   "execution_count": 63,
   "id": "8fba037a",
   "metadata": {},
   "outputs": [
    {
     "data": {
      "text/html": [
       "<div>\n",
       "<style scoped>\n",
       "    .dataframe tbody tr th:only-of-type {\n",
       "        vertical-align: middle;\n",
       "    }\n",
       "\n",
       "    .dataframe tbody tr th {\n",
       "        vertical-align: top;\n",
       "    }\n",
       "\n",
       "    .dataframe thead th {\n",
       "        text-align: right;\n",
       "    }\n",
       "</style>\n",
       "<table border=\"1\" class=\"dataframe\">\n",
       "  <thead>\n",
       "    <tr style=\"text-align: right;\">\n",
       "      <th></th>\n",
       "      <th>os_data_reads</th>\n",
       "      <th>buffer_pages_read</th>\n",
       "      <th>dml_reads</th>\n",
       "      <th>dml_updates</th>\n",
       "      <th>buffer_pool_bytes_data</th>\n",
       "      <th>innodb_dblwr_pages_written</th>\n",
       "      <th>buffer_data_reads</th>\n",
       "      <th>buffer_pool_pages_free</th>\n",
       "      <th>buffer_pool_read_ahead_evicted</th>\n",
       "      <th>adaptive_hash_searches_btree</th>\n",
       "      <th>...</th>\n",
       "      <th>os_log_pending_writes</th>\n",
       "      <th>ibuf_merges_delete_mark</th>\n",
       "      <th>buffer_pool_pages_data</th>\n",
       "      <th>buffer_pool_reads</th>\n",
       "      <th>buffer_pool_write_requests</th>\n",
       "      <th>os_log_fsyncs</th>\n",
       "      <th>buffer_pages_created</th>\n",
       "      <th>innodb_rwlock_s_spin_waits</th>\n",
       "      <th>os_data_writes</th>\n",
       "      <th>innodb_activity_count</th>\n",
       "    </tr>\n",
       "  </thead>\n",
       "  <tbody>\n",
       "    <tr>\n",
       "      <th>0</th>\n",
       "      <td>5801394</td>\n",
       "      <td>5802332</td>\n",
       "      <td>10000000</td>\n",
       "      <td>0</td>\n",
       "      <td>2545451008</td>\n",
       "      <td>160</td>\n",
       "      <td>95025090560</td>\n",
       "      <td>3</td>\n",
       "      <td>0</td>\n",
       "      <td>8869669</td>\n",
       "      <td>...</td>\n",
       "      <td>0</td>\n",
       "      <td>0</td>\n",
       "      <td>155362</td>\n",
       "      <td>5800081</td>\n",
       "      <td>39063</td>\n",
       "      <td>334</td>\n",
       "      <td>0</td>\n",
       "      <td>1588762</td>\n",
       "      <td>640</td>\n",
       "      <td>0</td>\n",
       "    </tr>\n",
       "    <tr>\n",
       "      <th>1</th>\n",
       "      <td>5267339</td>\n",
       "      <td>5268146</td>\n",
       "      <td>10000000</td>\n",
       "      <td>0</td>\n",
       "      <td>3515121664</td>\n",
       "      <td>125</td>\n",
       "      <td>86285078528</td>\n",
       "      <td>0</td>\n",
       "      <td>0</td>\n",
       "      <td>8577293</td>\n",
       "      <td>...</td>\n",
       "      <td>0</td>\n",
       "      <td>0</td>\n",
       "      <td>214546</td>\n",
       "      <td>5266145</td>\n",
       "      <td>39063</td>\n",
       "      <td>356</td>\n",
       "      <td>0</td>\n",
       "      <td>1228184</td>\n",
       "      <td>606</td>\n",
       "      <td>0</td>\n",
       "    </tr>\n",
       "    <tr>\n",
       "      <th>2</th>\n",
       "      <td>4119631</td>\n",
       "      <td>4122830</td>\n",
       "      <td>10000000</td>\n",
       "      <td>0</td>\n",
       "      <td>7957610496</td>\n",
       "      <td>123</td>\n",
       "      <td>67430846464</td>\n",
       "      <td>0</td>\n",
       "      <td>0</td>\n",
       "      <td>9999941</td>\n",
       "      <td>...</td>\n",
       "      <td>0</td>\n",
       "      <td>0</td>\n",
       "      <td>485694</td>\n",
       "      <td>4119911</td>\n",
       "      <td>39063</td>\n",
       "      <td>336</td>\n",
       "      <td>0</td>\n",
       "      <td>4728</td>\n",
       "      <td>577</td>\n",
       "      <td>0</td>\n",
       "    </tr>\n",
       "    <tr>\n",
       "      <th>3</th>\n",
       "      <td>6429437</td>\n",
       "      <td>6430420</td>\n",
       "      <td>10000000</td>\n",
       "      <td>0</td>\n",
       "      <td>1932640256</td>\n",
       "      <td>190</td>\n",
       "      <td>105302724608</td>\n",
       "      <td>0</td>\n",
       "      <td>0</td>\n",
       "      <td>9137076</td>\n",
       "      <td>...</td>\n",
       "      <td>0</td>\n",
       "      <td>0</td>\n",
       "      <td>117959</td>\n",
       "      <td>6427945</td>\n",
       "      <td>39063</td>\n",
       "      <td>438</td>\n",
       "      <td>0</td>\n",
       "      <td>1730471</td>\n",
       "      <td>818</td>\n",
       "      <td>0</td>\n",
       "    </tr>\n",
       "    <tr>\n",
       "      <th>4</th>\n",
       "      <td>4920091</td>\n",
       "      <td>4921076</td>\n",
       "      <td>10000000</td>\n",
       "      <td>0</td>\n",
       "      <td>4584095744</td>\n",
       "      <td>168</td>\n",
       "      <td>80592719872</td>\n",
       "      <td>0</td>\n",
       "      <td>0</td>\n",
       "      <td>8383075</td>\n",
       "      <td>...</td>\n",
       "      <td>0</td>\n",
       "      <td>0</td>\n",
       "      <td>279791</td>\n",
       "      <td>4918587</td>\n",
       "      <td>39063</td>\n",
       "      <td>399</td>\n",
       "      <td>0</td>\n",
       "      <td>1122916</td>\n",
       "      <td>733</td>\n",
       "      <td>0</td>\n",
       "    </tr>\n",
       "    <tr>\n",
       "      <th>...</th>\n",
       "      <td>...</td>\n",
       "      <td>...</td>\n",
       "      <td>...</td>\n",
       "      <td>...</td>\n",
       "      <td>...</td>\n",
       "      <td>...</td>\n",
       "      <td>...</td>\n",
       "      <td>...</td>\n",
       "      <td>...</td>\n",
       "      <td>...</td>\n",
       "      <td>...</td>\n",
       "      <td>...</td>\n",
       "      <td>...</td>\n",
       "      <td>...</td>\n",
       "      <td>...</td>\n",
       "      <td>...</td>\n",
       "      <td>...</td>\n",
       "      <td>...</td>\n",
       "      <td>...</td>\n",
       "      <td>...</td>\n",
       "      <td>...</td>\n",
       "    </tr>\n",
       "    <tr>\n",
       "      <th>995</th>\n",
       "      <td>5489151</td>\n",
       "      <td>5489902</td>\n",
       "      <td>10000000</td>\n",
       "      <td>0</td>\n",
       "      <td>3017293824</td>\n",
       "      <td>165</td>\n",
       "      <td>89907990528</td>\n",
       "      <td>0</td>\n",
       "      <td>8447</td>\n",
       "      <td>8690383</td>\n",
       "      <td>...</td>\n",
       "      <td>0</td>\n",
       "      <td>0</td>\n",
       "      <td>184161</td>\n",
       "      <td>5487818</td>\n",
       "      <td>39063</td>\n",
       "      <td>303</td>\n",
       "      <td>0</td>\n",
       "      <td>1399734</td>\n",
       "      <td>633</td>\n",
       "      <td>0</td>\n",
       "    </tr>\n",
       "    <tr>\n",
       "      <th>996</th>\n",
       "      <td>5234987</td>\n",
       "      <td>5237867</td>\n",
       "      <td>10000000</td>\n",
       "      <td>0</td>\n",
       "      <td>3686055936</td>\n",
       "      <td>116</td>\n",
       "      <td>85579829248</td>\n",
       "      <td>0</td>\n",
       "      <td>0</td>\n",
       "      <td>9999362</td>\n",
       "      <td>...</td>\n",
       "      <td>0</td>\n",
       "      <td>0</td>\n",
       "      <td>224979</td>\n",
       "      <td>5233819</td>\n",
       "      <td>39063</td>\n",
       "      <td>269</td>\n",
       "      <td>0</td>\n",
       "      <td>2665</td>\n",
       "      <td>501</td>\n",
       "      <td>0</td>\n",
       "    </tr>\n",
       "    <tr>\n",
       "      <th>997</th>\n",
       "      <td>4674370</td>\n",
       "      <td>4677289</td>\n",
       "      <td>10000000</td>\n",
       "      <td>0</td>\n",
       "      <td>6210977792</td>\n",
       "      <td>163</td>\n",
       "      <td>76467736576</td>\n",
       "      <td>0</td>\n",
       "      <td>115562</td>\n",
       "      <td>10000364</td>\n",
       "      <td>...</td>\n",
       "      <td>0</td>\n",
       "      <td>0</td>\n",
       "      <td>379088</td>\n",
       "      <td>4674012</td>\n",
       "      <td>39063</td>\n",
       "      <td>284</td>\n",
       "      <td>0</td>\n",
       "      <td>2806</td>\n",
       "      <td>610</td>\n",
       "      <td>0</td>\n",
       "    </tr>\n",
       "    <tr>\n",
       "      <th>998</th>\n",
       "      <td>5822417</td>\n",
       "      <td>5823206</td>\n",
       "      <td>10000000</td>\n",
       "      <td>0</td>\n",
       "      <td>2425929728</td>\n",
       "      <td>138</td>\n",
       "      <td>95364337664</td>\n",
       "      <td>0</td>\n",
       "      <td>2156</td>\n",
       "      <td>8894439</td>\n",
       "      <td>...</td>\n",
       "      <td>0</td>\n",
       "      <td>0</td>\n",
       "      <td>148067</td>\n",
       "      <td>5821233</td>\n",
       "      <td>39063</td>\n",
       "      <td>303</td>\n",
       "      <td>0</td>\n",
       "      <td>1534786</td>\n",
       "      <td>560</td>\n",
       "      <td>0</td>\n",
       "    </tr>\n",
       "    <tr>\n",
       "      <th>999</th>\n",
       "      <td>6748700</td>\n",
       "      <td>6749752</td>\n",
       "      <td>10000000</td>\n",
       "      <td>0</td>\n",
       "      <td>1488207872</td>\n",
       "      <td>133</td>\n",
       "      <td>110526386176</td>\n",
       "      <td>0</td>\n",
       "      <td>5957</td>\n",
       "      <td>9241246</td>\n",
       "      <td>...</td>\n",
       "      <td>0</td>\n",
       "      <td>0</td>\n",
       "      <td>90833</td>\n",
       "      <td>6747995</td>\n",
       "      <td>39063</td>\n",
       "      <td>381</td>\n",
       "      <td>0</td>\n",
       "      <td>1758121</td>\n",
       "      <td>647</td>\n",
       "      <td>0</td>\n",
       "    </tr>\n",
       "  </tbody>\n",
       "</table>\n",
       "<p>1000 rows × 63 columns</p>\n",
       "</div>"
      ],
      "text/plain": [
       "     os_data_reads  buffer_pages_read  dml_reads  dml_updates  \\\n",
       "0          5801394            5802332   10000000            0   \n",
       "1          5267339            5268146   10000000            0   \n",
       "2          4119631            4122830   10000000            0   \n",
       "3          6429437            6430420   10000000            0   \n",
       "4          4920091            4921076   10000000            0   \n",
       "..             ...                ...        ...          ...   \n",
       "995        5489151            5489902   10000000            0   \n",
       "996        5234987            5237867   10000000            0   \n",
       "997        4674370            4677289   10000000            0   \n",
       "998        5822417            5823206   10000000            0   \n",
       "999        6748700            6749752   10000000            0   \n",
       "\n",
       "     buffer_pool_bytes_data  innodb_dblwr_pages_written  buffer_data_reads  \\\n",
       "0                2545451008                         160        95025090560   \n",
       "1                3515121664                         125        86285078528   \n",
       "2                7957610496                         123        67430846464   \n",
       "3                1932640256                         190       105302724608   \n",
       "4                4584095744                         168        80592719872   \n",
       "..                      ...                         ...                ...   \n",
       "995              3017293824                         165        89907990528   \n",
       "996              3686055936                         116        85579829248   \n",
       "997              6210977792                         163        76467736576   \n",
       "998              2425929728                         138        95364337664   \n",
       "999              1488207872                         133       110526386176   \n",
       "\n",
       "     buffer_pool_pages_free  buffer_pool_read_ahead_evicted  \\\n",
       "0                         3                               0   \n",
       "1                         0                               0   \n",
       "2                         0                               0   \n",
       "3                         0                               0   \n",
       "4                         0                               0   \n",
       "..                      ...                             ...   \n",
       "995                       0                            8447   \n",
       "996                       0                               0   \n",
       "997                       0                          115562   \n",
       "998                       0                            2156   \n",
       "999                       0                            5957   \n",
       "\n",
       "     adaptive_hash_searches_btree  ...  os_log_pending_writes  \\\n",
       "0                         8869669  ...                      0   \n",
       "1                         8577293  ...                      0   \n",
       "2                         9999941  ...                      0   \n",
       "3                         9137076  ...                      0   \n",
       "4                         8383075  ...                      0   \n",
       "..                            ...  ...                    ...   \n",
       "995                       8690383  ...                      0   \n",
       "996                       9999362  ...                      0   \n",
       "997                      10000364  ...                      0   \n",
       "998                       8894439  ...                      0   \n",
       "999                       9241246  ...                      0   \n",
       "\n",
       "     ibuf_merges_delete_mark  buffer_pool_pages_data  buffer_pool_reads  \\\n",
       "0                          0                  155362            5800081   \n",
       "1                          0                  214546            5266145   \n",
       "2                          0                  485694            4119911   \n",
       "3                          0                  117959            6427945   \n",
       "4                          0                  279791            4918587   \n",
       "..                       ...                     ...                ...   \n",
       "995                        0                  184161            5487818   \n",
       "996                        0                  224979            5233819   \n",
       "997                        0                  379088            4674012   \n",
       "998                        0                  148067            5821233   \n",
       "999                        0                   90833            6747995   \n",
       "\n",
       "     buffer_pool_write_requests  os_log_fsyncs  buffer_pages_created  \\\n",
       "0                         39063            334                     0   \n",
       "1                         39063            356                     0   \n",
       "2                         39063            336                     0   \n",
       "3                         39063            438                     0   \n",
       "4                         39063            399                     0   \n",
       "..                          ...            ...                   ...   \n",
       "995                       39063            303                     0   \n",
       "996                       39063            269                     0   \n",
       "997                       39063            284                     0   \n",
       "998                       39063            303                     0   \n",
       "999                       39063            381                     0   \n",
       "\n",
       "     innodb_rwlock_s_spin_waits  os_data_writes  innodb_activity_count  \n",
       "0                       1588762             640                      0  \n",
       "1                       1228184             606                      0  \n",
       "2                          4728             577                      0  \n",
       "3                       1730471             818                      0  \n",
       "4                       1122916             733                      0  \n",
       "..                          ...             ...                    ...  \n",
       "995                     1399734             633                      0  \n",
       "996                        2665             501                      0  \n",
       "997                        2806             610                      0  \n",
       "998                     1534786             560                      0  \n",
       "999                     1758121             647                      0  \n",
       "\n",
       "[1000 rows x 63 columns]"
      ]
     },
     "execution_count": 63,
     "metadata": {},
     "output_type": "execute_result"
    }
   ],
   "source": [
    "internal"
   ]
  },
  {
   "cell_type": "code",
   "execution_count": 5,
   "id": "996b14d3",
   "metadata": {},
   "outputs": [],
   "source": [
    "internal_dict = {}\n",
    "external_dict = {}\n",
    "\n",
    "pruned_im = pd.read_csv(os.path.join(INTERNAL_PATH, 'internal_ensemble_pruned_tmp.csv'), index_col=0)\n",
    "for wk in range(WK_NUM):\n",
    "    im = pd.read_csv(os.path.join(INTERNAL_PATH, f'internal_results_{wk}.csv'), index_col=0)\n",
    "    internal_dict[wk] = im[pruned_im.columns]\n",
    "if opt.target > 15:\n",
    "    im = pd.read_csv(f'data/target_workload/{opt.target}/internal_results_11.csv', index_col=0)\n",
    "    internal_dict[wk+1] = im[pruned_im.columns]\n",
    "\n",
    "for wk in range(WK_NUM):\n",
    "    ex = pd.read_csv(os.path.join(EXTERNAL_PATH, f'external_results_{wk}.csv'), index_col=0)\n",
    "    external_dict[wk] = ex\n",
    "if opt.target > 15:\n",
    "    ex = pd.read_csv(f'data/target_workload/{opt.target}/external_results_11.csv', index_col=0)\n",
    "    external_dict[wk+1] = ex"
   ]
  },
  {
   "cell_type": "code",
   "execution_count": 6,
   "id": "b8f542dd",
   "metadata": {},
   "outputs": [],
   "source": [
    "knobs = Knob(raw_knobs, internal_dict, external_dict, opt.target)"
   ]
  },
  {
   "cell_type": "code",
   "execution_count": 7,
   "id": "04d11afe",
   "metadata": {},
   "outputs": [],
   "source": [
    "knobs.split_data()\n",
    "knobs.scale_data()"
   ]
  },
  {
   "cell_type": "code",
   "execution_count": 8,
   "id": "dddc7f1a",
   "metadata": {},
   "outputs": [],
   "source": [
    "dataset_tr = RocksDBDataset(knobs.norm_X_tr, knobs.norm_em_tr)\n",
    "dataset_te = RocksDBDataset(knobs.norm_X_te, knobs.norm_em_te)\n",
    "\n",
    "loader_tr = DataLoader(dataset = dataset_tr, batch_size = opt.batch_size, shuffle=True)\n",
    "loader_te = DataLoader(dataset = dataset_te, batch_size = opt.batch_size, shuffle=False)\n",
    "\n",
    "model = SingleNet(input_dim=knobs.norm_X_tr.shape[1], hidden_dim=16, output_dim=knobs.norm_em_tr.shape[-1]).cuda()"
   ]
  },
  {
   "cell_type": "code",
   "execution_count": 10,
   "id": "ddd0fae5",
   "metadata": {},
   "outputs": [
    {
     "name": "stdout",
     "output_type": "stream",
     "text": [
      "[00/20] loss_tr: 0.04003805\tloss_te:0.03580615\n",
      "[01/20] loss_tr: 0.03285220\tloss_te:0.02912505\n",
      "[02/20] loss_tr: 0.02611693\tloss_te:0.02275005\n",
      "[03/20] loss_tr: 0.02022883\tloss_te:0.01747382\n",
      "[04/20] loss_tr: 0.01521571\tloss_te:0.01291721\n",
      "[05/20] loss_tr: 0.01110809\tloss_te:0.00943629\n",
      "[06/20] loss_tr: 0.00824655\tloss_te:0.00725319\n",
      "[07/20] loss_tr: 0.00680578\tloss_te:0.00643578\n",
      "[08/20] loss_tr: 0.00633372\tloss_te:0.00619593\n",
      "[09/20] loss_tr: 0.00614985\tloss_te:0.00605251\n",
      "[10/20] loss_tr: 0.00604046\tloss_te:0.00596460\n",
      "[11/20] loss_tr: 0.00596313\tloss_te:0.00590390\n",
      "[12/20] loss_tr: 0.00591374\tloss_te:0.00584863\n",
      "[13/20] loss_tr: 0.00587182\tloss_te:0.00580835\n",
      "[14/20] loss_tr: 0.00584023\tloss_te:0.00577448\n",
      "[15/20] loss_tr: 0.00581302\tloss_te:0.00576012\n",
      "[16/20] loss_tr: 0.00578510\tloss_te:0.00570342\n",
      "[17/20] loss_tr: 0.00574415\tloss_te:0.00564570\n",
      "[18/20] loss_tr: 0.00567817\tloss_te:0.00556786\n",
      "[19/20] loss_tr: 0.00559141\tloss_te:0.00549298\n"
     ]
    }
   ],
   "source": [
    "best_loss = 100\n",
    "# name = get_filename('model_save', 'model', '.pt')\n",
    "for epoch in range(opt.epochs):\n",
    "    loss_tr = train(model, loader_tr, opt.lr)\n",
    "    loss_te, outputs = valid(model, loader_te)\n",
    "\n",
    "    print(f\"[{epoch:02d}/{opt.epochs}] loss_tr: {loss_tr:.8f}\\tloss_te:{loss_te:.8f}\")"
   ]
  },
  {
   "cell_type": "code",
   "execution_count": 49,
   "id": "1f45ef95",
   "metadata": {},
   "outputs": [],
   "source": [
    "def single_score_function(df, pr):\n",
    "    df = np.repeat(df, pr.shape[0], axis=0)\n",
    "    score = (df[0] - pr[0]) + (pr[1] - df[1]) + (df[2] - pr[2]) + (df[3] - pr[3])\n",
    "    print(score)\n",
    "    return np.round(score, 6)"
   ]
  },
  {
   "cell_type": "code",
   "execution_count": 53,
   "id": "bb539e80",
   "metadata": {},
   "outputs": [],
   "source": [
    "df = np.repeat(knobs.default_trg_em, outputs.shape[0], axis=0)\n",
    "pr = outputs.detach().cpu().numpy()"
   ]
  },
  {
   "cell_type": "code",
   "execution_count": 61,
   "id": "a2e5206f",
   "metadata": {},
   "outputs": [
    {
     "data": {
      "text/plain": [
       "array([-0.33032445, -0.4273648 , -0.35677413, ..., -0.21283447,\n",
       "       -0.36919947, -0.12358297])"
      ]
     },
     "execution_count": 61,
     "metadata": {},
     "output_type": "execute_result"
    }
   ],
   "source": [
    "(df[:,0] - pr[:,0] + pr[:,1] - df[:,1])"
   ]
  },
  {
   "cell_type": "code",
   "execution_count": 63,
   "id": "9537ad0a",
   "metadata": {},
   "outputs": [
    {
     "data": {
      "text/plain": [
       "-0.33032444"
      ]
     },
     "execution_count": 63,
     "metadata": {},
     "output_type": "execute_result"
    }
   ],
   "source": [
    "0.00362396 - 0.02582621 + 0.42511803 - 0.73324022"
   ]
  },
  {
   "cell_type": "code",
   "execution_count": 62,
   "id": "4939255d",
   "metadata": {},
   "outputs": [
    {
     "data": {
      "text/plain": [
       "(array([[0.00362396, 0.73324022, 0.23343849, 0.55314511],\n",
       "        [0.00362396, 0.73324022, 0.23343849, 0.55314511],\n",
       "        [0.00362396, 0.73324022, 0.23343849, 0.55314511],\n",
       "        ...,\n",
       "        [0.00362396, 0.73324022, 0.23343849, 0.55314511],\n",
       "        [0.00362396, 0.73324022, 0.23343849, 0.55314511],\n",
       "        [0.00362396, 0.73324022, 0.23343849, 0.55314511]]),\n",
       " array([[ 0.02582621,  0.42511803,  0.21571767,  0.32778028],\n",
       "        [ 0.03594913,  0.3382006 ,  0.11593885,  0.5312192 ],\n",
       "        [ 0.02982348,  0.40266562,  0.34310928,  0.8430038 ],\n",
       "        ...,\n",
       "        [ 0.02072407,  0.53750587,  0.19755192,  0.86267316],\n",
       "        [ 0.0325234 ,  0.3929402 ,  0.20183249,  0.4707964 ],\n",
       "        [-0.00550541,  0.6005279 ,  0.20492807,  1.0165479 ]],\n",
       "       dtype=float32))"
      ]
     },
     "execution_count": 62,
     "metadata": {},
     "output_type": "execute_result"
    }
   ],
   "source": [
    "df, pr"
   ]
  },
  {
   "cell_type": "code",
   "execution_count": 50,
   "id": "232ae70f",
   "metadata": {},
   "outputs": [
    {
     "name": "stdout",
     "output_type": "stream",
     "text": [
      "[-0.02957605  0.43930064 -0.25100482 -0.53670648]\n"
     ]
    },
    {
     "data": {
      "text/plain": [
       "array([-0.029576,  0.439301, -0.251005, -0.536706])"
      ]
     },
     "execution_count": 50,
     "metadata": {},
     "output_type": "execute_result"
    }
   ],
   "source": [
    "single_score_function(knobs.default_trg_em, outputs.detach().cpu().numpy())"
   ]
  },
  {
   "cell_type": "code",
   "execution_count": 42,
   "id": "569be475",
   "metadata": {},
   "outputs": [
    {
     "data": {
      "text/plain": [
       "array([[0.00362396, 0.73324022, 0.23343849, 0.55314511]])"
      ]
     },
     "execution_count": 42,
     "metadata": {},
     "output_type": "execute_result"
    }
   ],
   "source": [
    "knobs.default_trg_em"
   ]
  },
  {
   "cell_type": "code",
   "execution_count": 44,
   "id": "c1e2e855",
   "metadata": {},
   "outputs": [
    {
     "data": {
      "text/plain": [
       "array([[0.00362396, 0.73324022, 0.23343849, 0.55314511],\n",
       "       [0.00362396, 0.73324022, 0.23343849, 0.55314511],\n",
       "       [0.00362396, 0.73324022, 0.23343849, 0.55314511],\n",
       "       ...,\n",
       "       [0.00362396, 0.73324022, 0.23343849, 0.55314511],\n",
       "       [0.00362396, 0.73324022, 0.23343849, 0.55314511],\n",
       "       [0.00362396, 0.73324022, 0.23343849, 0.55314511]])"
      ]
     },
     "execution_count": 44,
     "metadata": {},
     "output_type": "execute_result"
    }
   ],
   "source": [
    "np.repeat(knobs.default_trg_em, outputs.shape[0], axis=0)"
   ]
  },
  {
   "cell_type": "code",
   "execution_count": 35,
   "id": "37acd86f",
   "metadata": {},
   "outputs": [
    {
     "data": {
      "text/plain": [
       "array([[ 0.02582621,  0.42511803,  0.21571767,  0.32778028],\n",
       "       [ 0.03594913,  0.3382006 ,  0.11593885,  0.5312192 ],\n",
       "       [ 0.02982348,  0.40266562,  0.34310928,  0.8430038 ],\n",
       "       ...,\n",
       "       [ 0.02072407,  0.53750587,  0.19755192,  0.86267316],\n",
       "       [ 0.0325234 ,  0.3929402 ,  0.20183249,  0.4707964 ],\n",
       "       [-0.00550541,  0.6005279 ,  0.20492807,  1.0165479 ]],\n",
       "      dtype=float32)"
      ]
     },
     "execution_count": 35,
     "metadata": {},
     "output_type": "execute_result"
    }
   ],
   "source": [
    "outputs.detach().cpu().numpy()"
   ]
  },
  {
   "cell_type": "code",
   "execution_count": 23,
   "id": "6ac317bf",
   "metadata": {},
   "outputs": [
    {
     "data": {
      "text/plain": [
       "-0.087239"
      ]
     },
     "execution_count": 23,
     "metadata": {},
     "output_type": "execute_result"
    }
   ],
   "source": [
    "single_score_function(knobs.default_trg_em, outputs.cpu().numpy())"
   ]
  },
  {
   "cell_type": "code",
   "execution_count": 15,
   "id": "29fc2e6e",
   "metadata": {},
   "outputs": [
    {
     "data": {
      "text/plain": [
       "array([[0.00362396, 0.73324022, 0.23343849, 0.55314511]])"
      ]
     },
     "execution_count": 15,
     "metadata": {},
     "output_type": "execute_result"
    }
   ],
   "source": [
    "knobs.default_trg_em"
   ]
  },
  {
   "cell_type": "code",
   "execution_count": 22,
   "id": "28674161",
   "metadata": {},
   "outputs": [
    {
     "data": {
      "text/plain": [
       "array([0.02582621, 0.42511803, 0.21571767, 0.32778028], dtype=float32)"
      ]
     },
     "execution_count": 22,
     "metadata": {},
     "output_type": "execute_result"
    }
   ],
   "source": [
    "outputs[0].cpu().numpy()"
   ]
  },
  {
   "cell_type": "code",
   "execution_count": 31,
   "id": "bd558c8b",
   "metadata": {},
   "outputs": [
    {
     "data": {
      "text/plain": [
       "array([0.025826, 0.425118, 0.215718, 0.32778 ], dtype=float32)"
      ]
     },
     "execution_count": 31,
     "metadata": {},
     "output_type": "execute_result"
    }
   ],
   "source": [
    "np.round(outputs.cpu().detach().numpy()[0], 6)"
   ]
  },
  {
   "cell_type": "code",
   "execution_count": 32,
   "id": "21a8383d",
   "metadata": {},
   "outputs": [
    {
     "data": {
      "text/plain": [
       "tensor([[ 0.0258,  0.4251,  0.2157,  0.3278],\n",
       "        [ 0.0359,  0.3382,  0.1159,  0.5312],\n",
       "        [ 0.0298,  0.4027,  0.3431,  0.8430],\n",
       "        ...,\n",
       "        [ 0.0207,  0.5375,  0.1976,  0.8627],\n",
       "        [ 0.0325,  0.3929,  0.2018,  0.4708],\n",
       "        [-0.0055,  0.6005,  0.2049,  1.0165]], device='cuda:0')"
      ]
     },
     "execution_count": 32,
     "metadata": {},
     "output_type": "execute_result"
    }
   ],
   "source": []
  },
  {
   "cell_type": "code",
   "execution_count": 12,
   "id": "b7cf95ed",
   "metadata": {
    "scrolled": true
   },
   "outputs": [
    {
     "data": {
      "text/plain": [
       "(torch.Size([4000, 4]),\n",
       " tensor([[ 0.0258,  0.4251,  0.2157,  0.3278],\n",
       "         [ 0.0359,  0.3382,  0.1159,  0.5312],\n",
       "         [ 0.0298,  0.4027,  0.3431,  0.8430],\n",
       "         ...,\n",
       "         [ 0.0207,  0.5375,  0.1976,  0.8627],\n",
       "         [ 0.0325,  0.3929,  0.2018,  0.4708],\n",
       "         [-0.0055,  0.6005,  0.2049,  1.0165]], device='cuda:0'))"
      ]
     },
     "execution_count": 12,
     "metadata": {},
     "output_type": "execute_result"
    }
   ],
   "source": [
    "outputs.shape, outputs"
   ]
  }
 ],
 "metadata": {
  "kernelspec": {
   "display_name": "[py3.7]",
   "language": "python",
   "name": "py3.7"
  },
  "language_info": {
   "codemirror_mode": {
    "name": "ipython",
    "version": 3
   },
   "file_extension": ".py",
   "mimetype": "text/x-python",
   "name": "python",
   "nbconvert_exporter": "python",
   "pygments_lexer": "ipython3",
   "version": "3.7.11"
  }
 },
 "nbformat": 4,
 "nbformat_minor": 5
}
