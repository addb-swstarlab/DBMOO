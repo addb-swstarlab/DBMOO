{
 "cells": [
  {
   "cell_type": "code",
   "execution_count": 1,
   "id": "ee28dae1",
   "metadata": {},
   "outputs": [],
   "source": [
    "import os, sys\n",
    "import pandas as pd\n",
    "import numpy as np\n",
    "import configparser\n",
    "\n",
    "sys.path.append('../')\n",
    "from knobs import Knob\n",
    "from utils import rocksdb_knobs_make_dict\n",
    "from steps import train_fitness_function\n",
    "from torch.utils.data import DataLoader\n",
    "from network import RocksDBDataset, SingleNet\n",
    "from train import train, valid"
   ]
  },
  {
   "cell_type": "code",
   "execution_count": 2,
   "id": "39237e41",
   "metadata": {},
   "outputs": [],
   "source": [
    "class OPT():\n",
    "    def __init__(self):\n",
    "        self.target = 0\n",
    "        self.batch_size = 32\n",
    "        self.epochs = 20\n",
    "        self.lr = 0.0001\n",
    "        self.dbms = 'mysql'\n",
    "        \n",
    "opt = OPT()"
   ]
  },
  {
   "cell_type": "code",
   "execution_count": 3,
   "id": "8a4d91d5",
   "metadata": {},
   "outputs": [],
   "source": [
    "KNOB_PATH = f'../data/mysql/configs/'\n",
    "EXTERNAL_PATH = '../data/mysql/external'\n",
    "INTERNAL_PATH = '../data/mysql/internal'\n",
    "WK_NUM = 1"
   ]
  },
  {
   "cell_type": "code",
   "execution_count": 4,
   "id": "5f2cf800",
   "metadata": {},
   "outputs": [],
   "source": [
    "def mysql_knob_dataframe(wk, knobs_path):\n",
    "    knobs_path = os.path.join(knobs_path, str(wk))\n",
    "    config_len = len(os.listdir(knobs_path))\n",
    "    cnf_parser = configparser.ConfigParser()\n",
    "    pd_mysql = pd.DataFrame()\n",
    "    for idx in range(config_len):\n",
    "        cnf_parser.read(os.path.join(knobs_path, f'my_{idx}.cnf'))\n",
    "        conf_dict = cnf_parser._sections['mysqld']\n",
    "        tmp = pd.DataFrame(data=[conf_dict.values()], columns=conf_dict.keys())\n",
    "        pd_mysql = pd.concat([pd_mysql, tmp])\n",
    "        \n",
    "    pd_mysql = pd_mysql.reset_index(drop=True)\n",
    "    pd_mysql = pd_mysql.drop(columns=['log-error', 'bind-address'])\n",
    "    return pd_mysql\n",
    "\n",
    "def mysql_metrics_dataframe(wk, internal_path, external_path):\n",
    "    internal = pd.read_csv(os.path.join(internal_path, f'internal_results_{wk}.csv'), index_col=0)\n",
    "    ## Drop oolumns contained unique data\n",
    "    unique_data_column = []\n",
    "    for col in internal.columns:\n",
    "        if len(pd.value_counts(internal[col])) == 1:\n",
    "            unique_data_column.append(col)\n",
    "    internal = internal.drop(columns=unique_data_column)\n",
    "    \n",
    "    external = pd.read_csv(os.path.join(external_path, f'external_results_{wk}.csv'), index_col=0)\n",
    "    latency_columns = []\n",
    "    for col in external.columns:\n",
    "        if col.find(\"latency\") == 0 and col != 'latency_max' and col != 'latency_CLEANUP':\n",
    "            latency_columns.append(col)\n",
    "    external_ = external[['tps']].copy()\n",
    "    external_['latency'] = external[latency_columns].max(axis=1)\n",
    "    return internal, external_"
   ]
  },
  {
   "cell_type": "code",
   "execution_count": 5,
   "id": "3f4ae534",
   "metadata": {},
   "outputs": [],
   "source": [
    "raw_knobs = mysql_knob_dataframe(0, KNOB_PATH)"
   ]
  },
  {
   "cell_type": "code",
   "execution_count": 6,
   "id": "9373c13f",
   "metadata": {},
   "outputs": [],
   "source": [
    "internal_dict = {}\n",
    "external_dict = {}\n",
    "wk = 0\n",
    "internal_dict[wk], external_dict[wk] = mysql_metrics_dataframe(wk, INTERNAL_PATH, EXTERNAL_PATH)"
   ]
  },
  {
   "cell_type": "code",
   "execution_count": 7,
   "id": "b8f542dd",
   "metadata": {},
   "outputs": [],
   "source": [
    "knobs = Knob(raw_knobs, internal_dict, external_dict, opt)"
   ]
  },
  {
   "cell_type": "code",
   "execution_count": 8,
   "id": "04d11afe",
   "metadata": {},
   "outputs": [],
   "source": [
    "knobs.split_data()\n",
    "knobs.scale_data()"
   ]
  },
  {
   "cell_type": "code",
   "execution_count": 12,
   "id": "dddc7f1a",
   "metadata": {},
   "outputs": [],
   "source": [
    "dataset_tr = RocksDBDataset(knobs.norm_X_tr, knobs.norm_em_tr)\n",
    "dataset_te = RocksDBDataset(knobs.norm_X_te, knobs.norm_em_te)\n",
    "\n",
    "loader_tr = DataLoader(dataset = dataset_tr, batch_size = opt.batch_size, shuffle=True)\n",
    "loader_te = DataLoader(dataset = dataset_te, batch_size = opt.batch_size, shuffle=False)\n",
    "\n",
    "model = SingleNet(input_dim=knobs.norm_X_tr.shape[1], hidden_dim=16, output_dim=knobs.norm_em_tr.shape[-1]).cuda()"
   ]
  },
  {
   "cell_type": "code",
   "execution_count": 13,
   "id": "ddd0fae5",
   "metadata": {},
   "outputs": [
    {
     "name": "stdout",
     "output_type": "stream",
     "text": [
      "[00/20] loss_tr: 0.58174279\tloss_te:0.55839671\n",
      "[01/20] loss_tr: 0.53605901\tloss_te:0.51558013\n",
      "[02/20] loss_tr: 0.49418305\tloss_te:0.47646551\n",
      "[03/20] loss_tr: 0.45589934\tloss_te:0.44031132\n",
      "[04/20] loss_tr: 0.42038560\tloss_te:0.40711499\n",
      "[05/20] loss_tr: 0.38757308\tloss_te:0.37636619\n",
      "[06/20] loss_tr: 0.35735111\tloss_te:0.34799694\n",
      "[07/20] loss_tr: 0.32949920\tloss_te:0.32167802\n",
      "[08/20] loss_tr: 0.30337285\tloss_te:0.29710514\n",
      "[09/20] loss_tr: 0.27903308\tloss_te:0.27401806\n",
      "[10/20] loss_tr: 0.25603036\tloss_te:0.25207901\n",
      "[11/20] loss_tr: 0.23438258\tloss_te:0.23097265\n",
      "[12/20] loss_tr: 0.21391478\tloss_te:0.21079397\n",
      "[13/20] loss_tr: 0.19446295\tloss_te:0.19163351\n",
      "[14/20] loss_tr: 0.17596670\tloss_te:0.17359141\n",
      "[15/20] loss_tr: 0.15825011\tloss_te:0.15611907\n",
      "[16/20] loss_tr: 0.14175677\tloss_te:0.13967000\n",
      "[17/20] loss_tr: 0.12589431\tloss_te:0.12414357\n",
      "[18/20] loss_tr: 0.11108195\tloss_te:0.10954416\n",
      "[19/20] loss_tr: 0.09713212\tloss_te:0.09600289\n"
     ]
    }
   ],
   "source": [
    "best_loss = 100\n",
    "# name = get_filename('model_save', 'model', '.pt')\n",
    "for epoch in range(opt.epochs):\n",
    "    loss_tr = train(model, loader_tr, opt.lr)\n",
    "    loss_te, outputs = valid(model, loader_te)\n",
    "\n",
    "    print(f\"[{epoch:02d}/{opt.epochs}] loss_tr: {loss_tr:.8f}\\tloss_te:{loss_te:.8f}\")"
   ]
  },
  {
   "cell_type": "code",
   "execution_count": null,
   "id": "1f45ef95",
   "metadata": {},
   "outputs": [],
   "source": [
    "def single_score_function(df, pr):\n",
    "    df = np.repeat(df, pr.shape[0], axis=0)\n",
    "    score = (df[0] - pr[0]) + (pr[1] - df[1]) + (df[2] - pr[2]) + (df[3] - pr[3])\n",
    "    print(score)\n",
    "    return np.round(score, 6)"
   ]
  },
  {
   "cell_type": "code",
   "execution_count": null,
   "id": "bb539e80",
   "metadata": {},
   "outputs": [],
   "source": [
    "df = np.repeat(knobs.default_trg_em, outputs.shape[0], axis=0)\n",
    "pr = outputs.detach().cpu().numpy()"
   ]
  },
  {
   "cell_type": "code",
   "execution_count": null,
   "id": "a2e5206f",
   "metadata": {},
   "outputs": [],
   "source": [
    "(df[:,0] - pr[:,0] + pr[:,1] - df[:,1])"
   ]
  },
  {
   "cell_type": "code",
   "execution_count": null,
   "id": "9537ad0a",
   "metadata": {},
   "outputs": [],
   "source": [
    "0.00362396 - 0.02582621 + 0.42511803 - 0.73324022"
   ]
  },
  {
   "cell_type": "code",
   "execution_count": null,
   "id": "4939255d",
   "metadata": {},
   "outputs": [],
   "source": [
    "df, pr"
   ]
  },
  {
   "cell_type": "code",
   "execution_count": null,
   "id": "232ae70f",
   "metadata": {},
   "outputs": [],
   "source": [
    "single_score_function(knobs.default_trg_em, outputs.detach().cpu().numpy())"
   ]
  },
  {
   "cell_type": "code",
   "execution_count": null,
   "id": "569be475",
   "metadata": {},
   "outputs": [],
   "source": [
    "knobs.default_trg_em"
   ]
  },
  {
   "cell_type": "code",
   "execution_count": null,
   "id": "c1e2e855",
   "metadata": {},
   "outputs": [],
   "source": [
    "np.repeat(knobs.default_trg_em, outputs.shape[0], axis=0)"
   ]
  },
  {
   "cell_type": "code",
   "execution_count": null,
   "id": "37acd86f",
   "metadata": {},
   "outputs": [],
   "source": [
    "outputs.detach().cpu().numpy()"
   ]
  },
  {
   "cell_type": "code",
   "execution_count": null,
   "id": "6ac317bf",
   "metadata": {},
   "outputs": [],
   "source": [
    "single_score_function(knobs.default_trg_em, outputs.cpu().numpy())"
   ]
  },
  {
   "cell_type": "code",
   "execution_count": null,
   "id": "29fc2e6e",
   "metadata": {},
   "outputs": [],
   "source": [
    "knobs.default_trg_em"
   ]
  },
  {
   "cell_type": "code",
   "execution_count": null,
   "id": "28674161",
   "metadata": {},
   "outputs": [],
   "source": [
    "outputs[0].cpu().numpy()"
   ]
  },
  {
   "cell_type": "code",
   "execution_count": null,
   "id": "bd558c8b",
   "metadata": {},
   "outputs": [],
   "source": [
    "np.round(outputs.cpu().detach().numpy()[0], 6)"
   ]
  },
  {
   "cell_type": "code",
   "execution_count": null,
   "id": "21a8383d",
   "metadata": {},
   "outputs": [],
   "source": []
  },
  {
   "cell_type": "code",
   "execution_count": null,
   "id": "b7cf95ed",
   "metadata": {
    "scrolled": true
   },
   "outputs": [],
   "source": [
    "outputs.shape, outputs"
   ]
  }
 ],
 "metadata": {
  "kernelspec": {
   "display_name": "[py3.7]",
   "language": "python",
   "name": "py3.7"
  },
  "language_info": {
   "codemirror_mode": {
    "name": "ipython",
    "version": 3
   },
   "file_extension": ".py",
   "mimetype": "text/x-python",
   "name": "python",
   "nbconvert_exporter": "python",
   "pygments_lexer": "ipython3",
   "version": "3.7.11"
  }
 },
 "nbformat": 4,
 "nbformat_minor": 5
}
