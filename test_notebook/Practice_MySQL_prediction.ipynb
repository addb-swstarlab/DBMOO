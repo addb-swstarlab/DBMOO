{
 "cells": [
  {
   "cell_type": "code",
   "execution_count": 1,
   "id": "ee28dae1",
   "metadata": {},
   "outputs": [],
   "source": [
    "import os, sys\n",
    "import pandas as pd\n",
    "import numpy as np\n",
    "import configparser\n",
    "\n",
    "sys.path.append('../')\n",
    "from knobs import Knob\n",
    "from utils import rocksdb_knobs_make_dict\n",
    "from steps import train_fitness_function\n",
    "from torch.utils.data import DataLoader\n",
    "from network import RocksDBDataset, SingleNet\n",
    "from train import train, valid"
   ]
  },
  {
   "cell_type": "code",
   "execution_count": 2,
   "id": "39237e41",
   "metadata": {},
   "outputs": [],
   "source": [
    "class OPT():\n",
    "    def __init__(self):\n",
    "        self.target = 0\n",
    "        self.batch_size = 32\n",
    "        self.epochs = 20\n",
    "        self.lr = 0.0001\n",
    "        self.dbms = 'mysql'\n",
    "        \n",
    "opt = OPT()"
   ]
  },
  {
   "cell_type": "code",
   "execution_count": 3,
   "id": "8a4d91d5",
   "metadata": {},
   "outputs": [],
   "source": [
    "KNOB_PATH = f'../data/mysql/configs/'\n",
    "EXTERNAL_PATH = '../data/mysql/external'\n",
    "INTERNAL_PATH = '../data/mysql/internal'\n",
    "WK_NUM = 1"
   ]
  },
  {
   "cell_type": "code",
   "execution_count": 4,
   "id": "5f2cf800",
   "metadata": {},
   "outputs": [],
   "source": [
    "def mysql_knob_dataframe(wk, knobs_path):\n",
    "    knobs_path = os.path.join(knobs_path, str(wk))\n",
    "    config_len = len(os.listdir(knobs_path))\n",
    "    cnf_parser = configparser.ConfigParser()\n",
    "    pd_mysql = pd.DataFrame()\n",
    "    for idx in range(config_len):\n",
    "        cnf_parser.read(os.path.join(knobs_path, f'my_{idx}.cnf'))\n",
    "        conf_dict = cnf_parser._sections['mysqld']\n",
    "        tmp = pd.DataFrame(data=[conf_dict.values()], columns=conf_dict.keys())\n",
    "        pd_mysql = pd.concat([pd_mysql, tmp])\n",
    "        \n",
    "    pd_mysql = pd_mysql.reset_index(drop=True)\n",
    "    pd_mysql = pd_mysql.drop(columns=['log-error', 'bind-address'])\n",
    "    return pd_mysql\n",
    "\n",
    "def mysql_metrics_dataframe(wk, internal_path, external_path):\n",
    "    internal = pd.read_csv(os.path.join(internal_path, f'internal_results_{wk}.csv'), index_col=0)\n",
    "    ## Drop oolumns contained unique data\n",
    "    unique_data_column = []\n",
    "    for col in internal.columns:\n",
    "        if len(pd.value_counts(internal[col])) == 1:\n",
    "            unique_data_column.append(col)\n",
    "    internal = internal.drop(columns=unique_data_column)\n",
    "    \n",
    "    external = pd.read_csv(os.path.join(external_path, f'external_results_{wk}.csv'), index_col=0)\n",
    "    latency_columns = []\n",
    "    for col in external.columns:\n",
    "        if col.find(\"latency\") == 0 and col != 'latency_max' and col != 'latency_CLEANUP':\n",
    "            latency_columns.append(col)\n",
    "    external_ = external[['tps']].copy()\n",
    "    external_['latency'] = external[latency_columns].max(axis=1)\n",
    "    return internal, external_"
   ]
  },
  {
   "cell_type": "code",
   "execution_count": 5,
   "id": "3f4ae534",
   "metadata": {},
   "outputs": [],
   "source": [
    "raw_knobs = mysql_knob_dataframe(0, KNOB_PATH)"
   ]
  },
  {
   "cell_type": "code",
   "execution_count": 6,
   "id": "9373c13f",
   "metadata": {},
   "outputs": [],
   "source": [
    "internal_dict = {}\n",
    "external_dict = {}\n",
    "wk = 0\n",
    "internal_dict[wk], external_dict[wk] = mysql_metrics_dataframe(wk, INTERNAL_PATH, EXTERNAL_PATH)"
   ]
  },
  {
   "cell_type": "code",
   "execution_count": 7,
   "id": "b8f542dd",
   "metadata": {},
   "outputs": [],
   "source": [
    "knobs = Knob(raw_knobs, internal_dict, external_dict, opt)"
   ]
  },
  {
   "cell_type": "code",
   "execution_count": 8,
   "id": "04d11afe",
   "metadata": {},
   "outputs": [],
   "source": [
    "knobs.split_data()\n",
    "knobs.scale_data()"
   ]
  },
  {
   "cell_type": "code",
   "execution_count": 9,
   "id": "dddc7f1a",
   "metadata": {},
   "outputs": [],
   "source": [
    "dataset_tr = RocksDBDataset(knobs.norm_X_tr, knobs.norm_em_tr)\n",
    "dataset_te = RocksDBDataset(knobs.norm_X_te, knobs.norm_em_te)\n",
    "\n",
    "loader_tr = DataLoader(dataset = dataset_tr, batch_size = opt.batch_size, shuffle=True)\n",
    "loader_te = DataLoader(dataset = dataset_te, batch_size = opt.batch_size, shuffle=False)\n",
    "\n",
    "model = SingleNet(input_dim=knobs.norm_X_tr.shape[1], hidden_dim=16, output_dim=knobs.norm_em_tr.shape[-1]).cuda()"
   ]
  },
  {
   "cell_type": "code",
   "execution_count": 10,
   "id": "ddd0fae5",
   "metadata": {},
   "outputs": [
    {
     "name": "stdout",
     "output_type": "stream",
     "text": [
      "[00/20] loss_tr: 0.23922064\tloss_te:0.23254650\n",
      "[01/20] loss_tr: 0.21701668\tloss_te:0.21084650\n",
      "[02/20] loss_tr: 0.19596447\tloss_te:0.19006921\n",
      "[03/20] loss_tr: 0.17615204\tloss_te:0.17056985\n",
      "[04/20] loss_tr: 0.15737690\tloss_te:0.15224008\n",
      "[05/20] loss_tr: 0.13971284\tloss_te:0.13508516\n",
      "[06/20] loss_tr: 0.12309072\tloss_te:0.11893380\n",
      "[07/20] loss_tr: 0.10780801\tloss_te:0.10415898\n",
      "[08/20] loss_tr: 0.09350984\tloss_te:0.09054345\n",
      "[09/20] loss_tr: 0.08048067\tloss_te:0.07833501\n",
      "[10/20] loss_tr: 0.06896177\tloss_te:0.06743033\n",
      "[11/20] loss_tr: 0.05852480\tloss_te:0.05768212\n",
      "[12/20] loss_tr: 0.04920238\tloss_te:0.04926832\n",
      "[13/20] loss_tr: 0.04145773\tloss_te:0.04235884\n",
      "[14/20] loss_tr: 0.03491454\tloss_te:0.03674349\n",
      "[15/20] loss_tr: 0.02983636\tloss_te:0.03258236\n",
      "[16/20] loss_tr: 0.02610531\tloss_te:0.02969181\n",
      "[17/20] loss_tr: 0.02368931\tloss_te:0.02792136\n",
      "[18/20] loss_tr: 0.02221749\tloss_te:0.02678977\n",
      "[19/20] loss_tr: 0.02138708\tloss_te:0.02609359\n"
     ]
    }
   ],
   "source": [
    "best_loss = 100\n",
    "# name = get_filename('model_save', 'model', '.pt')\n",
    "for epoch in range(opt.epochs):\n",
    "    loss_tr = train(model, loader_tr, opt.lr)\n",
    "    loss_te, outputs = valid(model, loader_te)\n",
    "\n",
    "    print(f\"[{epoch:02d}/{opt.epochs}] loss_tr: {loss_tr:.8f}\\tloss_te:{loss_te:.8f}\")"
   ]
  },
  {
   "cell_type": "code",
   "execution_count": 14,
   "id": "ca31c152",
   "metadata": {},
   "outputs": [],
   "source": [
    "outputs = model(knobs.norm_X_te)"
   ]
  },
  {
   "cell_type": "code",
   "execution_count": 22,
   "id": "5e5d08d6",
   "metadata": {},
   "outputs": [
    {
     "name": "stdout",
     "output_type": "stream",
     "text": [
      "0 tmp_table_size\n",
      "1 innodb_buffer_pool_size\n",
      "2 innodb_random_read_ahead\n",
      "3 innodb_spin_wait_delay\n",
      "4 innodb_read_io_threads\n",
      "5 thread_cache_size\n",
      "6 innodb_adaptive_hash_index\n",
      "7 innodb_buffer_pool_instances\n",
      "8 metadata_locks_hash_instances\n",
      "9 innodb_thread_concurrency\n",
      "10 innodb_sync_spin_loops\n",
      "11 innodb_sync_array_size\n",
      "12 innodb_lru_scan_depth\n",
      "13 innodb_purge_threads\n",
      "14 table_open_cache_instances\n",
      "15 innodb_write_io_threads\n",
      "16 innodb_read_ahead_threshold\n",
      "17 innodb_io_capacity\n",
      "18 table_open_cache\n",
      "19 innodb_flush_neighbors\n"
     ]
    }
   ],
   "source": [
    "for i, col in enumerate(knobs.columns):\n",
    "    print(i, col)"
   ]
  }
 ],
 "metadata": {
  "kernelspec": {
   "display_name": "[py3.7]",
   "language": "python",
   "name": "py3.7"
  },
  "language_info": {
   "codemirror_mode": {
    "name": "ipython",
    "version": 3
   },
   "file_extension": ".py",
   "mimetype": "text/x-python",
   "name": "python",
   "nbconvert_exporter": "python",
   "pygments_lexer": "ipython3",
   "version": "3.7.11"
  }
 },
 "nbformat": 4,
 "nbformat_minor": 5
}
