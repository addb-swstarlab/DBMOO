{
 "cells": [
  {
   "cell_type": "code",
   "execution_count": 1,
   "id": "ee28dae1",
   "metadata": {},
   "outputs": [],
   "source": [
    "import os, sys\n",
    "import pandas as pd\n",
    "import numpy as np\n",
    "\n",
    "sys.path.append('../')\n",
    "from knobs import Knob\n",
    "from utils import rocksdb_knobs_make_dict\n",
    "from steps import train_fitness_function\n",
    "from torch.utils.data import DataLoader\n",
    "from network import RocksDBDataset, SingleNet\n",
    "from train import train, valid"
   ]
  },
  {
   "cell_type": "code",
   "execution_count": 2,
   "id": "8a4d91d5",
   "metadata": {},
   "outputs": [],
   "source": [
    "KNOB_PATH = '../data/rocksdb/configs'\n",
    "EXTERNAL_PATH = '../data/rocksdb/external'\n",
    "INTERNAL_PATH = '../data/rocksdb/internal'\n",
    "WK_NUM = 1"
   ]
  },
  {
   "cell_type": "code",
   "execution_count": 3,
   "id": "39237e41",
   "metadata": {},
   "outputs": [],
   "source": [
    "class OPT():\n",
    "    def __init__(self):\n",
    "        self.target = 0\n",
    "        self.batch_size = 32\n",
    "        self.epochs = 20\n",
    "        self.lr = 0.0001\n",
    "        \n",
    "opt = OPT()"
   ]
  },
  {
   "cell_type": "code",
   "execution_count": 4,
   "id": "3f4ae534",
   "metadata": {},
   "outputs": [],
   "source": [
    "raw_knobs = rocksdb_knobs_make_dict(KNOB_PATH)\n",
    "raw_knobs = pd.DataFrame(data=raw_knobs['data'].astype(np.float32), columns=raw_knobs['columnlabels'])  "
   ]
  },
  {
   "cell_type": "code",
   "execution_count": 5,
   "id": "996b14d3",
   "metadata": {},
   "outputs": [],
   "source": [
    "internal_dict = {}\n",
    "external_dict = {}\n",
    "\n",
    "pruned_im = pd.read_csv(os.path.join(INTERNAL_PATH, 'internal_ensemble_pruned_tmp.csv'), index_col=0)\n",
    "for wk in range(WK_NUM):\n",
    "    im = pd.read_csv(os.path.join(INTERNAL_PATH, f'internal_results_{wk}.csv'), index_col=0)\n",
    "    internal_dict[wk] = im[pruned_im.columns]\n",
    "if opt.target > 15:\n",
    "    im = pd.read_csv(f'data/target_workload/{opt.target}/internal_results_11.csv', index_col=0)\n",
    "    internal_dict[wk+1] = im[pruned_im.columns]\n",
    "\n",
    "for wk in range(WK_NUM):\n",
    "    ex = pd.read_csv(os.path.join(EXTERNAL_PATH, f'external_results_{wk}.csv'), index_col=0)\n",
    "    external_dict[wk] = ex\n",
    "if opt.target > 15:\n",
    "    ex = pd.read_csv(f'data/target_workload/{opt.target}/external_results_11.csv', index_col=0)\n",
    "    external_dict[wk+1] = ex"
   ]
  },
  {
   "cell_type": "code",
   "execution_count": 6,
   "id": "b8f542dd",
   "metadata": {},
   "outputs": [],
   "source": [
    "knobs = Knob(raw_knobs, internal_dict, external_dict, opt.target)"
   ]
  },
  {
   "cell_type": "code",
   "execution_count": 7,
   "id": "04d11afe",
   "metadata": {},
   "outputs": [],
   "source": [
    "knobs.split_data()\n",
    "knobs.scale_data()"
   ]
  },
  {
   "cell_type": "code",
   "execution_count": 8,
   "id": "dddc7f1a",
   "metadata": {},
   "outputs": [],
   "source": [
    "dataset_tr = RocksDBDataset(knobs.norm_X_tr, knobs.norm_em_tr)\n",
    "dataset_te = RocksDBDataset(knobs.norm_X_te, knobs.norm_em_te)\n",
    "\n",
    "loader_tr = DataLoader(dataset = dataset_tr, batch_size = opt.batch_size, shuffle=True)\n",
    "loader_te = DataLoader(dataset = dataset_te, batch_size = opt.batch_size, shuffle=False)\n",
    "\n",
    "model = SingleNet(input_dim=knobs.norm_X_tr.shape[1], hidden_dim=16, output_dim=knobs.norm_em_tr.shape[-1]).cuda()"
   ]
  },
  {
   "cell_type": "code",
   "execution_count": 12,
   "id": "bafb3ed7",
   "metadata": {},
   "outputs": [
    {
     "data": {
      "text/plain": [
       "<bound method Module.parameters of SingleNet(\n",
       "  (hidden): Sequential(\n",
       "    (0): Linear(in_features=22, out_features=16, bias=True)\n",
       "    (1): ReLU()\n",
       "  )\n",
       "  (fc): Sequential(\n",
       "    (0): Linear(in_features=16, out_features=4, bias=True)\n",
       "  )\n",
       ")>"
      ]
     },
     "execution_count": 12,
     "metadata": {},
     "output_type": "execute_result"
    }
   ],
   "source": [
    "model.parameters"
   ]
  },
  {
   "cell_type": "code",
   "execution_count": 10,
   "id": "ddd0fae5",
   "metadata": {},
   "outputs": [
    {
     "name": "stdout",
     "output_type": "stream",
     "text": [
      "[00/20] loss_tr: 0.04003805\tloss_te:0.03580615\n",
      "[01/20] loss_tr: 0.03285220\tloss_te:0.02912505\n",
      "[02/20] loss_tr: 0.02611693\tloss_te:0.02275005\n",
      "[03/20] loss_tr: 0.02022883\tloss_te:0.01747382\n",
      "[04/20] loss_tr: 0.01521571\tloss_te:0.01291721\n",
      "[05/20] loss_tr: 0.01110809\tloss_te:0.00943629\n",
      "[06/20] loss_tr: 0.00824655\tloss_te:0.00725319\n",
      "[07/20] loss_tr: 0.00680578\tloss_te:0.00643578\n",
      "[08/20] loss_tr: 0.00633372\tloss_te:0.00619593\n",
      "[09/20] loss_tr: 0.00614985\tloss_te:0.00605251\n",
      "[10/20] loss_tr: 0.00604046\tloss_te:0.00596460\n",
      "[11/20] loss_tr: 0.00596313\tloss_te:0.00590390\n",
      "[12/20] loss_tr: 0.00591374\tloss_te:0.00584863\n",
      "[13/20] loss_tr: 0.00587182\tloss_te:0.00580835\n",
      "[14/20] loss_tr: 0.00584023\tloss_te:0.00577448\n",
      "[15/20] loss_tr: 0.00581302\tloss_te:0.00576012\n",
      "[16/20] loss_tr: 0.00578510\tloss_te:0.00570342\n",
      "[17/20] loss_tr: 0.00574415\tloss_te:0.00564570\n",
      "[18/20] loss_tr: 0.00567817\tloss_te:0.00556786\n",
      "[19/20] loss_tr: 0.00559141\tloss_te:0.00549298\n"
     ]
    }
   ],
   "source": [
    "best_loss = 100\n",
    "# name = get_filename('model_save', 'model', '.pt')\n",
    "for epoch in range(opt.epochs):\n",
    "    loss_tr = train(model, loader_tr, opt.lr)\n",
    "    loss_te, outputs = valid(model, loader_te)\n",
    "\n",
    "    print(f\"[{epoch:02d}/{opt.epochs}] loss_tr: {loss_tr:.8f}\\tloss_te:{loss_te:.8f}\")"
   ]
  },
  {
   "cell_type": "code",
   "execution_count": 49,
   "id": "1f45ef95",
   "metadata": {},
   "outputs": [],
   "source": [
    "def single_score_function(df, pr):\n",
    "    df = np.repeat(df, pr.shape[0], axis=0)\n",
    "    score = (df[0] - pr[0]) + (pr[1] - df[1]) + (df[2] - pr[2]) + (df[3] - pr[3])\n",
    "    print(score)\n",
    "    return np.round(score, 6)"
   ]
  },
  {
   "cell_type": "code",
   "execution_count": 53,
   "id": "bb539e80",
   "metadata": {},
   "outputs": [],
   "source": [
    "df = np.repeat(knobs.default_trg_em, outputs.shape[0], axis=0)\n",
    "pr = outputs.detach().cpu().numpy()"
   ]
  },
  {
   "cell_type": "code",
   "execution_count": 61,
   "id": "a2e5206f",
   "metadata": {},
   "outputs": [
    {
     "data": {
      "text/plain": [
       "array([-0.33032445, -0.4273648 , -0.35677413, ..., -0.21283447,\n",
       "       -0.36919947, -0.12358297])"
      ]
     },
     "execution_count": 61,
     "metadata": {},
     "output_type": "execute_result"
    }
   ],
   "source": [
    "(df[:,0] - pr[:,0] + pr[:,1] - df[:,1])"
   ]
  },
  {
   "cell_type": "code",
   "execution_count": 63,
   "id": "9537ad0a",
   "metadata": {},
   "outputs": [
    {
     "data": {
      "text/plain": [
       "-0.33032444"
      ]
     },
     "execution_count": 63,
     "metadata": {},
     "output_type": "execute_result"
    }
   ],
   "source": [
    "0.00362396 - 0.02582621 + 0.42511803 - 0.73324022"
   ]
  },
  {
   "cell_type": "code",
   "execution_count": 62,
   "id": "4939255d",
   "metadata": {},
   "outputs": [
    {
     "data": {
      "text/plain": [
       "(array([[0.00362396, 0.73324022, 0.23343849, 0.55314511],\n",
       "        [0.00362396, 0.73324022, 0.23343849, 0.55314511],\n",
       "        [0.00362396, 0.73324022, 0.23343849, 0.55314511],\n",
       "        ...,\n",
       "        [0.00362396, 0.73324022, 0.23343849, 0.55314511],\n",
       "        [0.00362396, 0.73324022, 0.23343849, 0.55314511],\n",
       "        [0.00362396, 0.73324022, 0.23343849, 0.55314511]]),\n",
       " array([[ 0.02582621,  0.42511803,  0.21571767,  0.32778028],\n",
       "        [ 0.03594913,  0.3382006 ,  0.11593885,  0.5312192 ],\n",
       "        [ 0.02982348,  0.40266562,  0.34310928,  0.8430038 ],\n",
       "        ...,\n",
       "        [ 0.02072407,  0.53750587,  0.19755192,  0.86267316],\n",
       "        [ 0.0325234 ,  0.3929402 ,  0.20183249,  0.4707964 ],\n",
       "        [-0.00550541,  0.6005279 ,  0.20492807,  1.0165479 ]],\n",
       "       dtype=float32))"
      ]
     },
     "execution_count": 62,
     "metadata": {},
     "output_type": "execute_result"
    }
   ],
   "source": [
    "df, pr"
   ]
  },
  {
   "cell_type": "code",
   "execution_count": 50,
   "id": "232ae70f",
   "metadata": {},
   "outputs": [
    {
     "name": "stdout",
     "output_type": "stream",
     "text": [
      "[-0.02957605  0.43930064 -0.25100482 -0.53670648]\n"
     ]
    },
    {
     "data": {
      "text/plain": [
       "array([-0.029576,  0.439301, -0.251005, -0.536706])"
      ]
     },
     "execution_count": 50,
     "metadata": {},
     "output_type": "execute_result"
    }
   ],
   "source": [
    "single_score_function(knobs.default_trg_em, outputs.detach().cpu().numpy())"
   ]
  },
  {
   "cell_type": "code",
   "execution_count": 42,
   "id": "569be475",
   "metadata": {},
   "outputs": [
    {
     "data": {
      "text/plain": [
       "array([[0.00362396, 0.73324022, 0.23343849, 0.55314511]])"
      ]
     },
     "execution_count": 42,
     "metadata": {},
     "output_type": "execute_result"
    }
   ],
   "source": [
    "knobs.default_trg_em"
   ]
  },
  {
   "cell_type": "code",
   "execution_count": 44,
   "id": "c1e2e855",
   "metadata": {},
   "outputs": [
    {
     "data": {
      "text/plain": [
       "array([[0.00362396, 0.73324022, 0.23343849, 0.55314511],\n",
       "       [0.00362396, 0.73324022, 0.23343849, 0.55314511],\n",
       "       [0.00362396, 0.73324022, 0.23343849, 0.55314511],\n",
       "       ...,\n",
       "       [0.00362396, 0.73324022, 0.23343849, 0.55314511],\n",
       "       [0.00362396, 0.73324022, 0.23343849, 0.55314511],\n",
       "       [0.00362396, 0.73324022, 0.23343849, 0.55314511]])"
      ]
     },
     "execution_count": 44,
     "metadata": {},
     "output_type": "execute_result"
    }
   ],
   "source": [
    "np.repeat(knobs.default_trg_em, outputs.shape[0], axis=0)"
   ]
  },
  {
   "cell_type": "code",
   "execution_count": 35,
   "id": "37acd86f",
   "metadata": {},
   "outputs": [
    {
     "data": {
      "text/plain": [
       "array([[ 0.02582621,  0.42511803,  0.21571767,  0.32778028],\n",
       "       [ 0.03594913,  0.3382006 ,  0.11593885,  0.5312192 ],\n",
       "       [ 0.02982348,  0.40266562,  0.34310928,  0.8430038 ],\n",
       "       ...,\n",
       "       [ 0.02072407,  0.53750587,  0.19755192,  0.86267316],\n",
       "       [ 0.0325234 ,  0.3929402 ,  0.20183249,  0.4707964 ],\n",
       "       [-0.00550541,  0.6005279 ,  0.20492807,  1.0165479 ]],\n",
       "      dtype=float32)"
      ]
     },
     "execution_count": 35,
     "metadata": {},
     "output_type": "execute_result"
    }
   ],
   "source": [
    "outputs.detach().cpu().numpy()"
   ]
  },
  {
   "cell_type": "code",
   "execution_count": 23,
   "id": "6ac317bf",
   "metadata": {},
   "outputs": [
    {
     "data": {
      "text/plain": [
       "-0.087239"
      ]
     },
     "execution_count": 23,
     "metadata": {},
     "output_type": "execute_result"
    }
   ],
   "source": [
    "single_score_function(knobs.default_trg_em, outputs.cpu().numpy())"
   ]
  },
  {
   "cell_type": "code",
   "execution_count": 15,
   "id": "29fc2e6e",
   "metadata": {},
   "outputs": [
    {
     "data": {
      "text/plain": [
       "array([[0.00362396, 0.73324022, 0.23343849, 0.55314511]])"
      ]
     },
     "execution_count": 15,
     "metadata": {},
     "output_type": "execute_result"
    }
   ],
   "source": [
    "knobs.default_trg_em"
   ]
  },
  {
   "cell_type": "code",
   "execution_count": 22,
   "id": "28674161",
   "metadata": {},
   "outputs": [
    {
     "data": {
      "text/plain": [
       "array([0.02582621, 0.42511803, 0.21571767, 0.32778028], dtype=float32)"
      ]
     },
     "execution_count": 22,
     "metadata": {},
     "output_type": "execute_result"
    }
   ],
   "source": [
    "outputs[0].cpu().numpy()"
   ]
  },
  {
   "cell_type": "code",
   "execution_count": 31,
   "id": "bd558c8b",
   "metadata": {},
   "outputs": [
    {
     "data": {
      "text/plain": [
       "array([0.025826, 0.425118, 0.215718, 0.32778 ], dtype=float32)"
      ]
     },
     "execution_count": 31,
     "metadata": {},
     "output_type": "execute_result"
    }
   ],
   "source": [
    "np.round(outputs.cpu().detach().numpy()[0], 6)"
   ]
  },
  {
   "cell_type": "code",
   "execution_count": 32,
   "id": "21a8383d",
   "metadata": {},
   "outputs": [
    {
     "data": {
      "text/plain": [
       "tensor([[ 0.0258,  0.4251,  0.2157,  0.3278],\n",
       "        [ 0.0359,  0.3382,  0.1159,  0.5312],\n",
       "        [ 0.0298,  0.4027,  0.3431,  0.8430],\n",
       "        ...,\n",
       "        [ 0.0207,  0.5375,  0.1976,  0.8627],\n",
       "        [ 0.0325,  0.3929,  0.2018,  0.4708],\n",
       "        [-0.0055,  0.6005,  0.2049,  1.0165]], device='cuda:0')"
      ]
     },
     "execution_count": 32,
     "metadata": {},
     "output_type": "execute_result"
    }
   ],
   "source": []
  },
  {
   "cell_type": "code",
   "execution_count": 12,
   "id": "b7cf95ed",
   "metadata": {
    "scrolled": true
   },
   "outputs": [
    {
     "data": {
      "text/plain": [
       "(torch.Size([4000, 4]),\n",
       " tensor([[ 0.0258,  0.4251,  0.2157,  0.3278],\n",
       "         [ 0.0359,  0.3382,  0.1159,  0.5312],\n",
       "         [ 0.0298,  0.4027,  0.3431,  0.8430],\n",
       "         ...,\n",
       "         [ 0.0207,  0.5375,  0.1976,  0.8627],\n",
       "         [ 0.0325,  0.3929,  0.2018,  0.4708],\n",
       "         [-0.0055,  0.6005,  0.2049,  1.0165]], device='cuda:0'))"
      ]
     },
     "execution_count": 12,
     "metadata": {},
     "output_type": "execute_result"
    }
   ],
   "source": [
    "outputs.shape, outputs"
   ]
  }
 ],
 "metadata": {
  "kernelspec": {
   "display_name": "[py3.7]",
   "language": "python",
   "name": "py3.7"
  },
  "language_info": {
   "codemirror_mode": {
    "name": "ipython",
    "version": 3
   },
   "file_extension": ".py",
   "mimetype": "text/x-python",
   "name": "python",
   "nbconvert_exporter": "python",
   "pygments_lexer": "ipython3",
   "version": "3.7.11"
  }
 },
 "nbformat": 4,
 "nbformat_minor": 5
}
