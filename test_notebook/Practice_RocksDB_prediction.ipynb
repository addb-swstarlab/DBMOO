{
 "cells": [
  {
   "cell_type": "code",
   "execution_count": 1,
   "id": "ee28dae1",
   "metadata": {},
   "outputs": [],
   "source": [
    "import os, sys\n",
    "import pandas as pd\n",
    "import numpy as np\n",
    "\n",
    "sys.path.append('../')\n",
    "from knobs import Knob\n",
    "from utils import rocksdb_knobs_make_dict\n",
    "from steps import train_fitness_function\n",
    "from torch.utils.data import DataLoader\n",
    "from network import RocksDBDataset, SingleNet\n",
    "from train import train, valid"
   ]
  },
  {
   "cell_type": "code",
   "execution_count": 2,
   "id": "8a4d91d5",
   "metadata": {},
   "outputs": [],
   "source": [
    "KNOB_PATH = '../data/rocksdb/configs'\n",
    "EXTERNAL_PATH = '../data/rocksdb/external'\n",
    "INTERNAL_PATH = '../data/rocksdb/internal'\n",
    "WK_NUM = 1"
   ]
  },
  {
   "cell_type": "code",
   "execution_count": 3,
   "id": "39237e41",
   "metadata": {},
   "outputs": [],
   "source": [
    "class OPT():\n",
    "    def __init__(self):\n",
    "        self.target = 0\n",
    "        self.batch_size = 32\n",
    "        self.epochs = 20\n",
    "        self.lr = 0.0001\n",
    "        \n",
    "opt = OPT()"
   ]
  },
  {
   "cell_type": "code",
   "execution_count": 5,
   "id": "3f4ae534",
   "metadata": {},
   "outputs": [],
   "source": [
    "raw_knobs = rocksdb_knobs_make_dict(KNOB_PATH)\n",
    "raw_knobs = pd.DataFrame(data=raw_knobs['data'].astype(np.float32), columns=raw_knobs['columnlabels'])  "
   ]
  },
  {
   "cell_type": "code",
   "execution_count": 6,
   "id": "5922f3b6",
   "metadata": {},
   "outputs": [
    {
     "data": {
      "text/html": [
       "<div>\n",
       "<style scoped>\n",
       "    .dataframe tbody tr th:only-of-type {\n",
       "        vertical-align: middle;\n",
       "    }\n",
       "\n",
       "    .dataframe tbody tr th {\n",
       "        vertical-align: top;\n",
       "    }\n",
       "\n",
       "    .dataframe thead th {\n",
       "        text-align: right;\n",
       "    }\n",
       "</style>\n",
       "<table border=\"1\" class=\"dataframe\">\n",
       "  <thead>\n",
       "    <tr style=\"text-align: right;\">\n",
       "      <th></th>\n",
       "      <th>max_background_compactions</th>\n",
       "      <th>max_background_flushes</th>\n",
       "      <th>write_buffer_size</th>\n",
       "      <th>max_write_buffer_number</th>\n",
       "      <th>min_write_buffer_number_to_merge</th>\n",
       "      <th>compaction_pri</th>\n",
       "      <th>compaction_style</th>\n",
       "      <th>level0_file_num_compaction_trigger</th>\n",
       "      <th>level0_slowdown_writes_trigger</th>\n",
       "      <th>level0_stop_writes_trigger</th>\n",
       "      <th>...</th>\n",
       "      <th>open_files</th>\n",
       "      <th>block_size</th>\n",
       "      <th>cache_index_and_filter_blocks</th>\n",
       "      <th>max_bytes_for_level_base</th>\n",
       "      <th>max_bytes_for_level_multiplier</th>\n",
       "      <th>target_file_size_base</th>\n",
       "      <th>target_file_size_multiplier</th>\n",
       "      <th>num_levels</th>\n",
       "      <th>memtable_bloom_size_ratio</th>\n",
       "      <th>compression_ratio</th>\n",
       "    </tr>\n",
       "  </thead>\n",
       "  <tbody>\n",
       "    <tr>\n",
       "      <th>0</th>\n",
       "      <td>6.0</td>\n",
       "      <td>16.0</td>\n",
       "      <td>1304576.0</td>\n",
       "      <td>3.0</td>\n",
       "      <td>2.0</td>\n",
       "      <td>1.0</td>\n",
       "      <td>0.0</td>\n",
       "      <td>3.0</td>\n",
       "      <td>24.0</td>\n",
       "      <td>44.0</td>\n",
       "      <td>...</td>\n",
       "      <td>10000.0</td>\n",
       "      <td>9216.0</td>\n",
       "      <td>0.0</td>\n",
       "      <td>5242880.0</td>\n",
       "      <td>11.0</td>\n",
       "      <td>1800192.0</td>\n",
       "      <td>1.0</td>\n",
       "      <td>8.0</td>\n",
       "      <td>0.10</td>\n",
       "      <td>0.67</td>\n",
       "    </tr>\n",
       "    <tr>\n",
       "      <th>1</th>\n",
       "      <td>2.0</td>\n",
       "      <td>14.0</td>\n",
       "      <td>911360.0</td>\n",
       "      <td>6.0</td>\n",
       "      <td>2.0</td>\n",
       "      <td>0.0</td>\n",
       "      <td>0.0</td>\n",
       "      <td>7.0</td>\n",
       "      <td>18.0</td>\n",
       "      <td>55.0</td>\n",
       "      <td>...</td>\n",
       "      <td>100000.0</td>\n",
       "      <td>15360.0</td>\n",
       "      <td>1.0</td>\n",
       "      <td>3145728.0</td>\n",
       "      <td>10.0</td>\n",
       "      <td>1729536.0</td>\n",
       "      <td>1.0</td>\n",
       "      <td>5.0</td>\n",
       "      <td>0.15</td>\n",
       "      <td>0.50</td>\n",
       "    </tr>\n",
       "    <tr>\n",
       "      <th>2</th>\n",
       "      <td>8.0</td>\n",
       "      <td>6.0</td>\n",
       "      <td>1474560.0</td>\n",
       "      <td>6.0</td>\n",
       "      <td>1.0</td>\n",
       "      <td>2.0</td>\n",
       "      <td>0.0</td>\n",
       "      <td>5.0</td>\n",
       "      <td>18.0</td>\n",
       "      <td>48.0</td>\n",
       "      <td>...</td>\n",
       "      <td>1000000.0</td>\n",
       "      <td>6144.0</td>\n",
       "      <td>0.0</td>\n",
       "      <td>4194304.0</td>\n",
       "      <td>9.0</td>\n",
       "      <td>1429504.0</td>\n",
       "      <td>1.0</td>\n",
       "      <td>6.0</td>\n",
       "      <td>0.05</td>\n",
       "      <td>0.36</td>\n",
       "    </tr>\n",
       "    <tr>\n",
       "      <th>3</th>\n",
       "      <td>12.0</td>\n",
       "      <td>8.0</td>\n",
       "      <td>550912.0</td>\n",
       "      <td>7.0</td>\n",
       "      <td>1.0</td>\n",
       "      <td>3.0</td>\n",
       "      <td>0.0</td>\n",
       "      <td>4.0</td>\n",
       "      <td>18.0</td>\n",
       "      <td>35.0</td>\n",
       "      <td>...</td>\n",
       "      <td>10000.0</td>\n",
       "      <td>3072.0</td>\n",
       "      <td>1.0</td>\n",
       "      <td>2097152.0</td>\n",
       "      <td>11.0</td>\n",
       "      <td>900096.0</td>\n",
       "      <td>1.0</td>\n",
       "      <td>7.0</td>\n",
       "      <td>0.05</td>\n",
       "      <td>0.63</td>\n",
       "    </tr>\n",
       "    <tr>\n",
       "      <th>4</th>\n",
       "      <td>11.0</td>\n",
       "      <td>15.0</td>\n",
       "      <td>1426432.0</td>\n",
       "      <td>5.0</td>\n",
       "      <td>1.0</td>\n",
       "      <td>0.0</td>\n",
       "      <td>0.0</td>\n",
       "      <td>5.0</td>\n",
       "      <td>23.0</td>\n",
       "      <td>59.0</td>\n",
       "      <td>...</td>\n",
       "      <td>10000.0</td>\n",
       "      <td>5120.0</td>\n",
       "      <td>0.0</td>\n",
       "      <td>5242880.0</td>\n",
       "      <td>8.0</td>\n",
       "      <td>560128.0</td>\n",
       "      <td>1.0</td>\n",
       "      <td>5.0</td>\n",
       "      <td>0.20</td>\n",
       "      <td>1.00</td>\n",
       "    </tr>\n",
       "    <tr>\n",
       "      <th>...</th>\n",
       "      <td>...</td>\n",
       "      <td>...</td>\n",
       "      <td>...</td>\n",
       "      <td>...</td>\n",
       "      <td>...</td>\n",
       "      <td>...</td>\n",
       "      <td>...</td>\n",
       "      <td>...</td>\n",
       "      <td>...</td>\n",
       "      <td>...</td>\n",
       "      <td>...</td>\n",
       "      <td>...</td>\n",
       "      <td>...</td>\n",
       "      <td>...</td>\n",
       "      <td>...</td>\n",
       "      <td>...</td>\n",
       "      <td>...</td>\n",
       "      <td>...</td>\n",
       "      <td>...</td>\n",
       "      <td>...</td>\n",
       "      <td>...</td>\n",
       "    </tr>\n",
       "    <tr>\n",
       "      <th>19995</th>\n",
       "      <td>1.0</td>\n",
       "      <td>15.0</td>\n",
       "      <td>551936.0</td>\n",
       "      <td>5.0</td>\n",
       "      <td>1.0</td>\n",
       "      <td>3.0</td>\n",
       "      <td>0.0</td>\n",
       "      <td>4.0</td>\n",
       "      <td>18.0</td>\n",
       "      <td>56.0</td>\n",
       "      <td>...</td>\n",
       "      <td>10000.0</td>\n",
       "      <td>8192.0</td>\n",
       "      <td>1.0</td>\n",
       "      <td>3145728.0</td>\n",
       "      <td>8.0</td>\n",
       "      <td>1148928.0</td>\n",
       "      <td>1.0</td>\n",
       "      <td>5.0</td>\n",
       "      <td>0.20</td>\n",
       "      <td>0.93</td>\n",
       "    </tr>\n",
       "    <tr>\n",
       "      <th>19996</th>\n",
       "      <td>7.0</td>\n",
       "      <td>8.0</td>\n",
       "      <td>826368.0</td>\n",
       "      <td>4.0</td>\n",
       "      <td>2.0</td>\n",
       "      <td>2.0</td>\n",
       "      <td>0.0</td>\n",
       "      <td>7.0</td>\n",
       "      <td>18.0</td>\n",
       "      <td>56.0</td>\n",
       "      <td>...</td>\n",
       "      <td>1000000.0</td>\n",
       "      <td>13312.0</td>\n",
       "      <td>1.0</td>\n",
       "      <td>7340032.0</td>\n",
       "      <td>10.0</td>\n",
       "      <td>922624.0</td>\n",
       "      <td>2.0</td>\n",
       "      <td>6.0</td>\n",
       "      <td>0.05</td>\n",
       "      <td>0.68</td>\n",
       "    </tr>\n",
       "    <tr>\n",
       "      <th>19997</th>\n",
       "      <td>6.0</td>\n",
       "      <td>12.0</td>\n",
       "      <td>730112.0</td>\n",
       "      <td>5.0</td>\n",
       "      <td>2.0</td>\n",
       "      <td>1.0</td>\n",
       "      <td>0.0</td>\n",
       "      <td>7.0</td>\n",
       "      <td>29.0</td>\n",
       "      <td>36.0</td>\n",
       "      <td>...</td>\n",
       "      <td>100000.0</td>\n",
       "      <td>8192.0</td>\n",
       "      <td>1.0</td>\n",
       "      <td>4194304.0</td>\n",
       "      <td>9.0</td>\n",
       "      <td>1661952.0</td>\n",
       "      <td>1.0</td>\n",
       "      <td>6.0</td>\n",
       "      <td>0.00</td>\n",
       "      <td>1.00</td>\n",
       "    </tr>\n",
       "    <tr>\n",
       "      <th>19998</th>\n",
       "      <td>9.0</td>\n",
       "      <td>11.0</td>\n",
       "      <td>1430528.0</td>\n",
       "      <td>6.0</td>\n",
       "      <td>1.0</td>\n",
       "      <td>3.0</td>\n",
       "      <td>0.0</td>\n",
       "      <td>4.0</td>\n",
       "      <td>25.0</td>\n",
       "      <td>34.0</td>\n",
       "      <td>...</td>\n",
       "      <td>100000.0</td>\n",
       "      <td>13312.0</td>\n",
       "      <td>1.0</td>\n",
       "      <td>3145728.0</td>\n",
       "      <td>9.0</td>\n",
       "      <td>834560.0</td>\n",
       "      <td>2.0</td>\n",
       "      <td>7.0</td>\n",
       "      <td>0.00</td>\n",
       "      <td>0.77</td>\n",
       "    </tr>\n",
       "    <tr>\n",
       "      <th>19999</th>\n",
       "      <td>16.0</td>\n",
       "      <td>12.0</td>\n",
       "      <td>1027072.0</td>\n",
       "      <td>6.0</td>\n",
       "      <td>1.0</td>\n",
       "      <td>3.0</td>\n",
       "      <td>0.0</td>\n",
       "      <td>7.0</td>\n",
       "      <td>29.0</td>\n",
       "      <td>54.0</td>\n",
       "      <td>...</td>\n",
       "      <td>10000.0</td>\n",
       "      <td>9216.0</td>\n",
       "      <td>1.0</td>\n",
       "      <td>7340032.0</td>\n",
       "      <td>12.0</td>\n",
       "      <td>532480.0</td>\n",
       "      <td>2.0</td>\n",
       "      <td>8.0</td>\n",
       "      <td>0.20</td>\n",
       "      <td>1.00</td>\n",
       "    </tr>\n",
       "  </tbody>\n",
       "</table>\n",
       "<p>20000 rows × 22 columns</p>\n",
       "</div>"
      ],
      "text/plain": [
       "       max_background_compactions  max_background_flushes  write_buffer_size  \\\n",
       "0                             6.0                    16.0          1304576.0   \n",
       "1                             2.0                    14.0           911360.0   \n",
       "2                             8.0                     6.0          1474560.0   \n",
       "3                            12.0                     8.0           550912.0   \n",
       "4                            11.0                    15.0          1426432.0   \n",
       "...                           ...                     ...                ...   \n",
       "19995                         1.0                    15.0           551936.0   \n",
       "19996                         7.0                     8.0           826368.0   \n",
       "19997                         6.0                    12.0           730112.0   \n",
       "19998                         9.0                    11.0          1430528.0   \n",
       "19999                        16.0                    12.0          1027072.0   \n",
       "\n",
       "       max_write_buffer_number  min_write_buffer_number_to_merge  \\\n",
       "0                          3.0                               2.0   \n",
       "1                          6.0                               2.0   \n",
       "2                          6.0                               1.0   \n",
       "3                          7.0                               1.0   \n",
       "4                          5.0                               1.0   \n",
       "...                        ...                               ...   \n",
       "19995                      5.0                               1.0   \n",
       "19996                      4.0                               2.0   \n",
       "19997                      5.0                               2.0   \n",
       "19998                      6.0                               1.0   \n",
       "19999                      6.0                               1.0   \n",
       "\n",
       "       compaction_pri  compaction_style  level0_file_num_compaction_trigger  \\\n",
       "0                 1.0               0.0                                 3.0   \n",
       "1                 0.0               0.0                                 7.0   \n",
       "2                 2.0               0.0                                 5.0   \n",
       "3                 3.0               0.0                                 4.0   \n",
       "4                 0.0               0.0                                 5.0   \n",
       "...               ...               ...                                 ...   \n",
       "19995             3.0               0.0                                 4.0   \n",
       "19996             2.0               0.0                                 7.0   \n",
       "19997             1.0               0.0                                 7.0   \n",
       "19998             3.0               0.0                                 4.0   \n",
       "19999             3.0               0.0                                 7.0   \n",
       "\n",
       "       level0_slowdown_writes_trigger  level0_stop_writes_trigger  ...  \\\n",
       "0                                24.0                        44.0  ...   \n",
       "1                                18.0                        55.0  ...   \n",
       "2                                18.0                        48.0  ...   \n",
       "3                                18.0                        35.0  ...   \n",
       "4                                23.0                        59.0  ...   \n",
       "...                               ...                         ...  ...   \n",
       "19995                            18.0                        56.0  ...   \n",
       "19996                            18.0                        56.0  ...   \n",
       "19997                            29.0                        36.0  ...   \n",
       "19998                            25.0                        34.0  ...   \n",
       "19999                            29.0                        54.0  ...   \n",
       "\n",
       "       open_files  block_size  cache_index_and_filter_blocks  \\\n",
       "0         10000.0      9216.0                            0.0   \n",
       "1        100000.0     15360.0                            1.0   \n",
       "2       1000000.0      6144.0                            0.0   \n",
       "3         10000.0      3072.0                            1.0   \n",
       "4         10000.0      5120.0                            0.0   \n",
       "...           ...         ...                            ...   \n",
       "19995     10000.0      8192.0                            1.0   \n",
       "19996   1000000.0     13312.0                            1.0   \n",
       "19997    100000.0      8192.0                            1.0   \n",
       "19998    100000.0     13312.0                            1.0   \n",
       "19999     10000.0      9216.0                            1.0   \n",
       "\n",
       "       max_bytes_for_level_base  max_bytes_for_level_multiplier  \\\n",
       "0                     5242880.0                            11.0   \n",
       "1                     3145728.0                            10.0   \n",
       "2                     4194304.0                             9.0   \n",
       "3                     2097152.0                            11.0   \n",
       "4                     5242880.0                             8.0   \n",
       "...                         ...                             ...   \n",
       "19995                 3145728.0                             8.0   \n",
       "19996                 7340032.0                            10.0   \n",
       "19997                 4194304.0                             9.0   \n",
       "19998                 3145728.0                             9.0   \n",
       "19999                 7340032.0                            12.0   \n",
       "\n",
       "       target_file_size_base  target_file_size_multiplier  num_levels  \\\n",
       "0                  1800192.0                          1.0         8.0   \n",
       "1                  1729536.0                          1.0         5.0   \n",
       "2                  1429504.0                          1.0         6.0   \n",
       "3                   900096.0                          1.0         7.0   \n",
       "4                   560128.0                          1.0         5.0   \n",
       "...                      ...                          ...         ...   \n",
       "19995              1148928.0                          1.0         5.0   \n",
       "19996               922624.0                          2.0         6.0   \n",
       "19997              1661952.0                          1.0         6.0   \n",
       "19998               834560.0                          2.0         7.0   \n",
       "19999               532480.0                          2.0         8.0   \n",
       "\n",
       "       memtable_bloom_size_ratio  compression_ratio  \n",
       "0                           0.10               0.67  \n",
       "1                           0.15               0.50  \n",
       "2                           0.05               0.36  \n",
       "3                           0.05               0.63  \n",
       "4                           0.20               1.00  \n",
       "...                          ...                ...  \n",
       "19995                       0.20               0.93  \n",
       "19996                       0.05               0.68  \n",
       "19997                       0.00               1.00  \n",
       "19998                       0.00               0.77  \n",
       "19999                       0.20               1.00  \n",
       "\n",
       "[20000 rows x 22 columns]"
      ]
     },
     "execution_count": 6,
     "metadata": {},
     "output_type": "execute_result"
    }
   ],
   "source": [
    "raw_knobs"
   ]
  },
  {
   "cell_type": "code",
   "execution_count": 5,
   "id": "996b14d3",
   "metadata": {},
   "outputs": [],
   "source": [
    "internal_dict = {}\n",
    "external_dict = {}\n",
    "\n",
    "pruned_im = pd.read_csv(os.path.join(INTERNAL_PATH, 'internal_ensemble_pruned_tmp.csv'), index_col=0)\n",
    "for wk in range(WK_NUM):\n",
    "    im = pd.read_csv(os.path.join(INTERNAL_PATH, f'internal_results_{wk}.csv'), index_col=0)\n",
    "    internal_dict[wk] = im[pruned_im.columns]\n",
    "if opt.target > 15:\n",
    "    im = pd.read_csv(f'data/target_workload/{opt.target}/internal_results_11.csv', index_col=0)\n",
    "    internal_dict[wk+1] = im[pruned_im.columns]\n",
    "\n",
    "for wk in range(WK_NUM):\n",
    "    ex = pd.read_csv(os.path.join(EXTERNAL_PATH, f'external_results_{wk}.csv'), index_col=0)\n",
    "    external_dict[wk] = ex\n",
    "if opt.target > 15:\n",
    "    ex = pd.read_csv(f'data/target_workload/{opt.target}/external_results_11.csv', index_col=0)\n",
    "    external_dict[wk+1] = ex"
   ]
  },
  {
   "cell_type": "code",
   "execution_count": 6,
   "id": "b8f542dd",
   "metadata": {},
   "outputs": [],
   "source": [
    "knobs = Knob(raw_knobs, internal_dict, external_dict, opt.target)"
   ]
  },
  {
   "cell_type": "code",
   "execution_count": 7,
   "id": "04d11afe",
   "metadata": {},
   "outputs": [],
   "source": [
    "knobs.split_data()\n",
    "knobs.scale_data()"
   ]
  },
  {
   "cell_type": "code",
   "execution_count": 8,
   "id": "dddc7f1a",
   "metadata": {},
   "outputs": [],
   "source": [
    "dataset_tr = RocksDBDataset(knobs.norm_X_tr, knobs.norm_em_tr)\n",
    "dataset_te = RocksDBDataset(knobs.norm_X_te, knobs.norm_em_te)\n",
    "\n",
    "loader_tr = DataLoader(dataset = dataset_tr, batch_size = opt.batch_size, shuffle=True)\n",
    "loader_te = DataLoader(dataset = dataset_te, batch_size = opt.batch_size, shuffle=False)\n",
    "\n",
    "model = SingleNet(input_dim=knobs.norm_X_tr.shape[1], hidden_dim=16, output_dim=knobs.norm_em_tr.shape[-1]).cuda()"
   ]
  },
  {
   "cell_type": "code",
   "execution_count": 10,
   "id": "ddd0fae5",
   "metadata": {},
   "outputs": [
    {
     "name": "stdout",
     "output_type": "stream",
     "text": [
      "[00/20] loss_tr: 0.04003805\tloss_te:0.03580615\n",
      "[01/20] loss_tr: 0.03285220\tloss_te:0.02912505\n",
      "[02/20] loss_tr: 0.02611693\tloss_te:0.02275005\n",
      "[03/20] loss_tr: 0.02022883\tloss_te:0.01747382\n",
      "[04/20] loss_tr: 0.01521571\tloss_te:0.01291721\n",
      "[05/20] loss_tr: 0.01110809\tloss_te:0.00943629\n",
      "[06/20] loss_tr: 0.00824655\tloss_te:0.00725319\n",
      "[07/20] loss_tr: 0.00680578\tloss_te:0.00643578\n",
      "[08/20] loss_tr: 0.00633372\tloss_te:0.00619593\n",
      "[09/20] loss_tr: 0.00614985\tloss_te:0.00605251\n",
      "[10/20] loss_tr: 0.00604046\tloss_te:0.00596460\n",
      "[11/20] loss_tr: 0.00596313\tloss_te:0.00590390\n",
      "[12/20] loss_tr: 0.00591374\tloss_te:0.00584863\n",
      "[13/20] loss_tr: 0.00587182\tloss_te:0.00580835\n",
      "[14/20] loss_tr: 0.00584023\tloss_te:0.00577448\n",
      "[15/20] loss_tr: 0.00581302\tloss_te:0.00576012\n",
      "[16/20] loss_tr: 0.00578510\tloss_te:0.00570342\n",
      "[17/20] loss_tr: 0.00574415\tloss_te:0.00564570\n",
      "[18/20] loss_tr: 0.00567817\tloss_te:0.00556786\n",
      "[19/20] loss_tr: 0.00559141\tloss_te:0.00549298\n"
     ]
    }
   ],
   "source": [
    "best_loss = 100\n",
    "# name = get_filename('model_save', 'model', '.pt')\n",
    "for epoch in range(opt.epochs):\n",
    "    loss_tr = train(model, loader_tr, opt.lr)\n",
    "    loss_te, outputs = valid(model, loader_te)\n",
    "\n",
    "    print(f\"[{epoch:02d}/{opt.epochs}] loss_tr: {loss_tr:.8f}\\tloss_te:{loss_te:.8f}\")"
   ]
  },
  {
   "cell_type": "code",
   "execution_count": 49,
   "id": "1f45ef95",
   "metadata": {},
   "outputs": [],
   "source": [
    "def single_score_function(df, pr):\n",
    "    df = np.repeat(df, pr.shape[0], axis=0)\n",
    "    score = (df[0] - pr[0]) + (pr[1] - df[1]) + (df[2] - pr[2]) + (df[3] - pr[3])\n",
    "    print(score)\n",
    "    return np.round(score, 6)"
   ]
  },
  {
   "cell_type": "code",
   "execution_count": 53,
   "id": "bb539e80",
   "metadata": {},
   "outputs": [],
   "source": [
    "df = np.repeat(knobs.default_trg_em, outputs.shape[0], axis=0)\n",
    "pr = outputs.detach().cpu().numpy()"
   ]
  },
  {
   "cell_type": "code",
   "execution_count": 61,
   "id": "a2e5206f",
   "metadata": {},
   "outputs": [
    {
     "data": {
      "text/plain": [
       "array([-0.33032445, -0.4273648 , -0.35677413, ..., -0.21283447,\n",
       "       -0.36919947, -0.12358297])"
      ]
     },
     "execution_count": 61,
     "metadata": {},
     "output_type": "execute_result"
    }
   ],
   "source": [
    "(df[:,0] - pr[:,0] + pr[:,1] - df[:,1])"
   ]
  },
  {
   "cell_type": "code",
   "execution_count": 63,
   "id": "9537ad0a",
   "metadata": {},
   "outputs": [
    {
     "data": {
      "text/plain": [
       "-0.33032444"
      ]
     },
     "execution_count": 63,
     "metadata": {},
     "output_type": "execute_result"
    }
   ],
   "source": [
    "0.00362396 - 0.02582621 + 0.42511803 - 0.73324022"
   ]
  },
  {
   "cell_type": "code",
   "execution_count": 62,
   "id": "4939255d",
   "metadata": {},
   "outputs": [
    {
     "data": {
      "text/plain": [
       "(array([[0.00362396, 0.73324022, 0.23343849, 0.55314511],\n",
       "        [0.00362396, 0.73324022, 0.23343849, 0.55314511],\n",
       "        [0.00362396, 0.73324022, 0.23343849, 0.55314511],\n",
       "        ...,\n",
       "        [0.00362396, 0.73324022, 0.23343849, 0.55314511],\n",
       "        [0.00362396, 0.73324022, 0.23343849, 0.55314511],\n",
       "        [0.00362396, 0.73324022, 0.23343849, 0.55314511]]),\n",
       " array([[ 0.02582621,  0.42511803,  0.21571767,  0.32778028],\n",
       "        [ 0.03594913,  0.3382006 ,  0.11593885,  0.5312192 ],\n",
       "        [ 0.02982348,  0.40266562,  0.34310928,  0.8430038 ],\n",
       "        ...,\n",
       "        [ 0.02072407,  0.53750587,  0.19755192,  0.86267316],\n",
       "        [ 0.0325234 ,  0.3929402 ,  0.20183249,  0.4707964 ],\n",
       "        [-0.00550541,  0.6005279 ,  0.20492807,  1.0165479 ]],\n",
       "       dtype=float32))"
      ]
     },
     "execution_count": 62,
     "metadata": {},
     "output_type": "execute_result"
    }
   ],
   "source": [
    "df, pr"
   ]
  },
  {
   "cell_type": "code",
   "execution_count": 50,
   "id": "232ae70f",
   "metadata": {},
   "outputs": [
    {
     "name": "stdout",
     "output_type": "stream",
     "text": [
      "[-0.02957605  0.43930064 -0.25100482 -0.53670648]\n"
     ]
    },
    {
     "data": {
      "text/plain": [
       "array([-0.029576,  0.439301, -0.251005, -0.536706])"
      ]
     },
     "execution_count": 50,
     "metadata": {},
     "output_type": "execute_result"
    }
   ],
   "source": [
    "single_score_function(knobs.default_trg_em, outputs.detach().cpu().numpy())"
   ]
  },
  {
   "cell_type": "code",
   "execution_count": 42,
   "id": "569be475",
   "metadata": {},
   "outputs": [
    {
     "data": {
      "text/plain": [
       "array([[0.00362396, 0.73324022, 0.23343849, 0.55314511]])"
      ]
     },
     "execution_count": 42,
     "metadata": {},
     "output_type": "execute_result"
    }
   ],
   "source": [
    "knobs.default_trg_em"
   ]
  },
  {
   "cell_type": "code",
   "execution_count": 44,
   "id": "c1e2e855",
   "metadata": {},
   "outputs": [
    {
     "data": {
      "text/plain": [
       "array([[0.00362396, 0.73324022, 0.23343849, 0.55314511],\n",
       "       [0.00362396, 0.73324022, 0.23343849, 0.55314511],\n",
       "       [0.00362396, 0.73324022, 0.23343849, 0.55314511],\n",
       "       ...,\n",
       "       [0.00362396, 0.73324022, 0.23343849, 0.55314511],\n",
       "       [0.00362396, 0.73324022, 0.23343849, 0.55314511],\n",
       "       [0.00362396, 0.73324022, 0.23343849, 0.55314511]])"
      ]
     },
     "execution_count": 44,
     "metadata": {},
     "output_type": "execute_result"
    }
   ],
   "source": [
    "np.repeat(knobs.default_trg_em, outputs.shape[0], axis=0)"
   ]
  },
  {
   "cell_type": "code",
   "execution_count": 35,
   "id": "37acd86f",
   "metadata": {},
   "outputs": [
    {
     "data": {
      "text/plain": [
       "array([[ 0.02582621,  0.42511803,  0.21571767,  0.32778028],\n",
       "       [ 0.03594913,  0.3382006 ,  0.11593885,  0.5312192 ],\n",
       "       [ 0.02982348,  0.40266562,  0.34310928,  0.8430038 ],\n",
       "       ...,\n",
       "       [ 0.02072407,  0.53750587,  0.19755192,  0.86267316],\n",
       "       [ 0.0325234 ,  0.3929402 ,  0.20183249,  0.4707964 ],\n",
       "       [-0.00550541,  0.6005279 ,  0.20492807,  1.0165479 ]],\n",
       "      dtype=float32)"
      ]
     },
     "execution_count": 35,
     "metadata": {},
     "output_type": "execute_result"
    }
   ],
   "source": [
    "outputs.detach().cpu().numpy()"
   ]
  },
  {
   "cell_type": "code",
   "execution_count": 23,
   "id": "6ac317bf",
   "metadata": {},
   "outputs": [
    {
     "data": {
      "text/plain": [
       "-0.087239"
      ]
     },
     "execution_count": 23,
     "metadata": {},
     "output_type": "execute_result"
    }
   ],
   "source": [
    "single_score_function(knobs.default_trg_em, outputs.cpu().numpy())"
   ]
  },
  {
   "cell_type": "code",
   "execution_count": 15,
   "id": "29fc2e6e",
   "metadata": {},
   "outputs": [
    {
     "data": {
      "text/plain": [
       "array([[0.00362396, 0.73324022, 0.23343849, 0.55314511]])"
      ]
     },
     "execution_count": 15,
     "metadata": {},
     "output_type": "execute_result"
    }
   ],
   "source": [
    "knobs.default_trg_em"
   ]
  },
  {
   "cell_type": "code",
   "execution_count": 22,
   "id": "28674161",
   "metadata": {},
   "outputs": [
    {
     "data": {
      "text/plain": [
       "array([0.02582621, 0.42511803, 0.21571767, 0.32778028], dtype=float32)"
      ]
     },
     "execution_count": 22,
     "metadata": {},
     "output_type": "execute_result"
    }
   ],
   "source": [
    "outputs[0].cpu().numpy()"
   ]
  },
  {
   "cell_type": "code",
   "execution_count": 31,
   "id": "bd558c8b",
   "metadata": {},
   "outputs": [
    {
     "data": {
      "text/plain": [
       "array([0.025826, 0.425118, 0.215718, 0.32778 ], dtype=float32)"
      ]
     },
     "execution_count": 31,
     "metadata": {},
     "output_type": "execute_result"
    }
   ],
   "source": [
    "np.round(outputs.cpu().detach().numpy()[0], 6)"
   ]
  },
  {
   "cell_type": "code",
   "execution_count": 32,
   "id": "21a8383d",
   "metadata": {},
   "outputs": [
    {
     "data": {
      "text/plain": [
       "tensor([[ 0.0258,  0.4251,  0.2157,  0.3278],\n",
       "        [ 0.0359,  0.3382,  0.1159,  0.5312],\n",
       "        [ 0.0298,  0.4027,  0.3431,  0.8430],\n",
       "        ...,\n",
       "        [ 0.0207,  0.5375,  0.1976,  0.8627],\n",
       "        [ 0.0325,  0.3929,  0.2018,  0.4708],\n",
       "        [-0.0055,  0.6005,  0.2049,  1.0165]], device='cuda:0')"
      ]
     },
     "execution_count": 32,
     "metadata": {},
     "output_type": "execute_result"
    }
   ],
   "source": []
  },
  {
   "cell_type": "code",
   "execution_count": 12,
   "id": "b7cf95ed",
   "metadata": {
    "scrolled": true
   },
   "outputs": [
    {
     "data": {
      "text/plain": [
       "(torch.Size([4000, 4]),\n",
       " tensor([[ 0.0258,  0.4251,  0.2157,  0.3278],\n",
       "         [ 0.0359,  0.3382,  0.1159,  0.5312],\n",
       "         [ 0.0298,  0.4027,  0.3431,  0.8430],\n",
       "         ...,\n",
       "         [ 0.0207,  0.5375,  0.1976,  0.8627],\n",
       "         [ 0.0325,  0.3929,  0.2018,  0.4708],\n",
       "         [-0.0055,  0.6005,  0.2049,  1.0165]], device='cuda:0'))"
      ]
     },
     "execution_count": 12,
     "metadata": {},
     "output_type": "execute_result"
    }
   ],
   "source": [
    "outputs.shape, outputs"
   ]
  }
 ],
 "metadata": {
  "kernelspec": {
   "display_name": "[py3.7]",
   "language": "python",
   "name": "py3.7"
  },
  "language_info": {
   "codemirror_mode": {
    "name": "ipython",
    "version": 3
   },
   "file_extension": ".py",
   "mimetype": "text/x-python",
   "name": "python",
   "nbconvert_exporter": "python",
   "pygments_lexer": "ipython3",
   "version": "3.7.11"
  }
 },
 "nbformat": 4,
 "nbformat_minor": 5
}
